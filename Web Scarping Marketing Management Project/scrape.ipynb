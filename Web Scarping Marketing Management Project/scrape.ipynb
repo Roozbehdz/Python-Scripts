{
 "cells": [
  {
   "cell_type": "code",
   "execution_count": 1,
   "metadata": {},
   "outputs": [],
   "source": [
    "from selenium import webdriver\n",
    "from selenium.webdriver.common.keys import Keys\n",
    "from bs4 import BeautifulSoup\n",
    "import re\n",
    "import pandas as pd\n",
    "import os\n",
    "from selenium.webdriver.support.ui import WebDriverWait\n",
    "from selenium.webdriver.support import expected_conditions as EC\n",
    "from bs4 import BeautifulSoup\n",
    "import pprint\n",
    "import time\n",
    "import requests"
   ]
  },
  {
   "cell_type": "markdown",
   "metadata": {},
   "source": [
    "Site Jabber"
   ]
  },
  {
   "cell_type": "code",
   "execution_count": 2,
   "metadata": {},
   "outputs": [],
   "source": [
    "#launch url\n",
    "url = \"https://www.sitejabber.com/reviews/uber.com\"\n",
    "\n",
    "# create a new Chrome session\n",
    "driver = webdriver.Chrome()\n",
    "driver.implicitly_wait(30)\n",
    "driver.get(url)\n",
    "\n",
    "# time.sleep(30)\n",
    "# python_button = driver.find_element_by_css_selector('#reviews > div.url-reviews__ajax > div.pagination > div.pagination__next > span > a')\n",
    "# python_button.click() #click fhsu link\n"
   ]
  },
  {
   "cell_type": "code",
   "execution_count": 3,
   "metadata": {},
   "outputs": [],
   "source": [
    "df = pd.DataFrame(columns=[\"Text\", \"Stars\", \"Helpful_Count\", \"Date\"])"
   ]
  },
  {
   "cell_type": "code",
   "execution_count": 4,
   "metadata": {},
   "outputs": [
    {
     "output_type": "execute_result",
     "data": {
      "text/plain": "25"
     },
     "metadata": {},
     "execution_count": 4
    }
   ],
   "source": [
    "soup = BeautifulSoup(driver.page_source, 'html.parser')\n",
    "review_containers = list(soup.find_all(class_ = \"review__container\"))\n",
    "len(review_containers)"
   ]
  },
  {
   "cell_type": "code",
   "execution_count": 6,
   "metadata": {},
   "outputs": [
    {
     "output_type": "execute_result",
     "data": {
      "text/plain": "                                                 Text Stars Helpful_Count  \\\n0   Okay, made a uber eats account.... tried to or...     1           (2)   \n1   The cost of registering your car for uber is a...     3           (0)   \n2   Here's what i sent them to a contact email sin...     1           (0)   \n3   I was going in to work in the rain my normal f...     1           (0)   \n4   Uber through venmo Sucks!!! \\nEach time I pay ...     1           (0)   \n5   Stone cold fast food is on a parr with eating ...     1           (0)   \n6   Uber don't care anything about their driver's ...     1           (0)   \n7   Scheduled set appt for 3:00 a.m. pickup for ri...     1           (0)   \n8   Just read a promotional ad from uber about how...     1           (0)   \n9   I used Uber today March 29, the price when I o...     1           (0)   \n10  They will steal your money by charging you for...     1           (1)   \n11  \\n\\t\\t\\t\\t\\t\\t\\t\\tstood waiting approx 20 minu...     5           (0)   \n12  I would give zero stars if I could. My friend ...     1           (0)   \n13  The app breaks down if I tried to do anything ...     1           (0)   \n14  It has come full circle that Uber could care l...     1           (0)   \n15  The other night driving home with Uber I was t...     2           (0)   \n16  They are extremely unprofessional. Drivers do ...     1           (0)   \n17  Uber drivers do not follow the route provided ...     1           (0)   \n18  1) most times I have been with friends trying ...     2           (0)   \n19  Im a uber driver of 5 years in HOUSTON tx here...     1           (1)   \n20  Uber showed me the fare would be $10 but charg...     1           (0)   \n21  Let me start by saying it is way too complicat...     2           (0)   \n22  Used Uber for the first time in Seattle, found...     2           (2)   \n23  I have driven for this company for a year and ...     1           (1)   \n24  I have been a driver with Uber for 5 years. Th...     1           (1)   \n0   \\n\\t\\t\\t\\t\\t\\t\\t\\tUber took $260 from my accou...     1           (0)   \n1   \\n\\t\\t\\t\\t\\t\\t\\t\\tI have over 30 years on the ...     1           (0)   \n2   \\n\\t\\t\\t\\t\\t\\t\\t\\tI scheduled a ride on Uber t...     1           (0)   \n3   \\n\\t\\t\\t\\t\\t\\t\\t\\tI worked for Uber and Lyft f...     1           (1)   \n4   \\n\\t\\t\\t\\t\\t\\t\\t\\tUBER TOOK MY MONEY AND NEVER...     1           (0)   \n5   \\n\\t\\t\\t\\t\\t\\t\\t\\tWe took an Uber in JFK and t...     1           (0)   \n6   \\n\\t\\t\\t\\t\\t\\t\\t\\tI must be the only person in...     1           (3)   \n7   \\n\\t\\t\\t\\t\\t\\t\\t\\tI called uber for going home...     1           (0)   \n8   \\n\\t\\t\\t\\t\\t\\t\\t\\tI'm a frequent uber user and...     1           (2)   \n9   \\n\\t\\t\\t\\t\\t\\t\\t\\tSo, over the last few years ...     5           (0)   \n10  \\n\\t\\t\\t\\t\\t\\t\\t\\tVery convenient/useful/good ...     5           (0)   \n11  \\n\\t\\t\\t\\t\\t\\t\\t\\tTo be very honest here us Ub...     1           (1)   \n12  \\n\\t\\t\\t\\t\\t\\t\\t\\tI used Uber from my home to ...     2           (2)   \n13  \\n\\t\\t\\t\\t\\t\\t\\t\\tUber's customer service depa...     1           (0)   \n14  \\n\\t\\t\\t\\t\\t\\t\\t\\tI've been using Uber for a g...     5           (0)   \n15  \\n\\t\\t\\t\\t\\t\\t\\t\\tThey never showed up for the...     1           (0)   \n16  \\n\\t\\t\\t\\t\\t\\t\\t\\tI have a temp medical condit...     1           (0)   \n17  \\n\\t\\t\\t\\t\\t\\t\\t\\tI left my phone in the car d...     1           (0)   \n18  \\n\\t\\t\\t\\t\\t\\t\\t\\tUber charged me twice for th...     1           (1)   \n19  \\n\\t\\t\\t\\t\\t\\t\\t\\tVisiting Canada but drivers ...     1           (1)   \n20  \\n\\t\\t\\t\\t\\t\\t\\t\\tUber charged me about a tota...     1           (0)   \n21  \\n\\t\\t\\t\\t\\t\\t\\t\\tOk so I schedule my very fir...     4           (0)   \n22  \\n\\t\\t\\t\\t\\t\\t\\t\\tI'm A Uber Driver & In Not H...     1           (1)   \n23  \\n\\t\\t\\t\\t\\t\\t\\t\\tUber Support for Drivers is ...     1           (2)   \n24  \\n\\t\\t\\t\\t\\t\\t\\t\\tI tried to schedule a trip f...     1           (4)   \n\n                                       Date  \n0   \\n\\t\\t\\t\\t\\tFebruary 25th, 2020\\t\\t\\t\\t  \n1         \\n\\t\\t\\t\\t\\tMay 9th, 2020\\t\\t\\t\\t  \n2       \\n\\t\\t\\t\\t\\tApril 6th, 2020\\t\\t\\t\\t  \n3      \\n\\t\\t\\t\\t\\tMarch 16th, 2020\\t\\t\\t\\t  \n4      \\n\\t\\t\\t\\t\\tApril 30th, 2020\\t\\t\\t\\t  \n5    \\n\\t\\t\\t\\t\\tJanuary 26th, 2020\\t\\t\\t\\t  \n6    \\n\\t\\t\\t\\t\\tJanuary 28th, 2020\\t\\t\\t\\t  \n7     \\n\\t\\t\\t\\t\\tJanuary 9th, 2020\\t\\t\\t\\t  \n8        \\n\\t\\t\\t\\t\\tJune 7th, 2020\\t\\t\\t\\t  \n9      \\n\\t\\t\\t\\t\\tMarch 29th, 2020\\t\\t\\t\\t  \n10   \\n\\t\\t\\t\\t\\tFebruary 7th, 2020\\t\\t\\t\\t  \n11       \\n\\t\\t\\t\\t\\tJune 2nd, 2020\\t\\t\\t\\t  \n12       \\n\\t\\t\\t\\t\\tMay 11th, 2020\\t\\t\\t\\t  \n13      \\n\\t\\t\\t\\t\\tMarch 6th, 2020\\t\\t\\t\\t  \n14  \\n\\t\\t\\t\\t\\tFebruary 25th, 2020\\t\\t\\t\\t  \n15     \\n\\t\\t\\t\\t\\tMarch 25th, 2020\\t\\t\\t\\t  \n16   \\n\\t\\t\\t\\t\\tFebruary 8th, 2020\\t\\t\\t\\t  \n17       \\n\\t\\t\\t\\t\\tJune 3rd, 2020\\t\\t\\t\\t  \n18  \\n\\t\\t\\t\\t\\tFebruary 10th, 2020\\t\\t\\t\\t  \n19    \\n\\t\\t\\t\\t\\tJanuary 9th, 2020\\t\\t\\t\\t  \n20      \\n\\t\\t\\t\\t\\tMarch 6th, 2020\\t\\t\\t\\t  \n21       \\n\\t\\t\\t\\t\\tJune 6th, 2020\\t\\t\\t\\t  \n22   \\n\\t\\t\\t\\t\\tJanuary 17th, 2019\\t\\t\\t\\t  \n23  \\n\\t\\t\\t\\t\\tFebruary 28th, 2020\\t\\t\\t\\t  \n24  \\n\\t\\t\\t\\t\\tFebruary 21st, 2020\\t\\t\\t\\t  \n0    \\n\\t\\t\\t\\t\\tDecember 7th, 2019\\t\\t\\t\\t  \n1   \\n\\t\\t\\t\\t\\tNovember 10th, 2019\\t\\t\\t\\t  \n2      \\n\\t\\t\\t\\t\\tMarch 13th, 2020\\t\\t\\t\\t  \n3    \\n\\t\\t\\t\\t\\tOctober 24th, 2019\\t\\t\\t\\t  \n4    \\n\\t\\t\\t\\t\\tJanuary 27th, 2020\\t\\t\\t\\t  \n5   \\n\\t\\t\\t\\t\\tDecember 15th, 2019\\t\\t\\t\\t  \n6   \\n\\t\\t\\t\\t\\tNovember 18th, 2019\\t\\t\\t\\t  \n7    \\n\\t\\t\\t\\t\\tOctober 10th, 2019\\t\\t\\t\\t  \n8    \\n\\t\\t\\t\\t\\tJanuary 24th, 2019\\t\\t\\t\\t  \n9   \\n\\t\\t\\t\\t\\tDecember 23rd, 2019\\t\\t\\t\\t  \n10      \\n\\t\\t\\t\\t\\tJune 10th, 2019\\t\\t\\t\\t  \n11  \\n\\t\\t\\t\\t\\tDecember 11th, 2019\\t\\t\\t\\t  \n12     \\n\\t\\t\\t\\t\\tMarch 18th, 2019\\t\\t\\t\\t  \n13      \\n\\t\\t\\t\\t\\tJune 27th, 2019\\t\\t\\t\\t  \n14      \\n\\t\\t\\t\\t\\tJune 22nd, 2019\\t\\t\\t\\t  \n15  \\n\\t\\t\\t\\t\\tFebruary 20th, 2019\\t\\t\\t\\t  \n16      \\n\\t\\t\\t\\t\\tJune 16th, 2019\\t\\t\\t\\t  \n17    \\n\\t\\t\\t\\t\\tAugust 15th, 2019\\t\\t\\t\\t  \n18    \\n\\t\\t\\t\\t\\tJanuary 3rd, 2019\\t\\t\\t\\t  \n19       \\n\\t\\t\\t\\t\\tMay 15th, 2018\\t\\t\\t\\t  \n20     \\n\\t\\t\\t\\t\\tApril 30th, 2019\\t\\t\\t\\t  \n21     \\n\\t\\t\\t\\t\\tMarch 18th, 2020\\t\\t\\t\\t  \n22     \\n\\t\\t\\t\\t\\tApril 26th, 2019\\t\\t\\t\\t  \n23     \\n\\t\\t\\t\\t\\tApril 18th, 2019\\t\\t\\t\\t  \n24    \\n\\t\\t\\t\\t\\tAugust 10th, 2018\\t\\t\\t\\t  ",
      "text/html": "<div>\n<style scoped>\n    .dataframe tbody tr th:only-of-type {\n        vertical-align: middle;\n    }\n\n    .dataframe tbody tr th {\n        vertical-align: top;\n    }\n\n    .dataframe thead th {\n        text-align: right;\n    }\n</style>\n<table border=\"1\" class=\"dataframe\">\n  <thead>\n    <tr style=\"text-align: right;\">\n      <th></th>\n      <th>Text</th>\n      <th>Stars</th>\n      <th>Helpful_Count</th>\n      <th>Date</th>\n    </tr>\n  </thead>\n  <tbody>\n    <tr>\n      <th>0</th>\n      <td>Okay, made a uber eats account.... tried to or...</td>\n      <td>1</td>\n      <td>(2)</td>\n      <td>\\n\\t\\t\\t\\t\\tFebruary 25th, 2020\\t\\t\\t\\t</td>\n    </tr>\n    <tr>\n      <th>1</th>\n      <td>The cost of registering your car for uber is a...</td>\n      <td>3</td>\n      <td>(0)</td>\n      <td>\\n\\t\\t\\t\\t\\tMay 9th, 2020\\t\\t\\t\\t</td>\n    </tr>\n    <tr>\n      <th>2</th>\n      <td>Here's what i sent them to a contact email sin...</td>\n      <td>1</td>\n      <td>(0)</td>\n      <td>\\n\\t\\t\\t\\t\\tApril 6th, 2020\\t\\t\\t\\t</td>\n    </tr>\n    <tr>\n      <th>3</th>\n      <td>I was going in to work in the rain my normal f...</td>\n      <td>1</td>\n      <td>(0)</td>\n      <td>\\n\\t\\t\\t\\t\\tMarch 16th, 2020\\t\\t\\t\\t</td>\n    </tr>\n    <tr>\n      <th>4</th>\n      <td>Uber through venmo Sucks!!! \\nEach time I pay ...</td>\n      <td>1</td>\n      <td>(0)</td>\n      <td>\\n\\t\\t\\t\\t\\tApril 30th, 2020\\t\\t\\t\\t</td>\n    </tr>\n    <tr>\n      <th>5</th>\n      <td>Stone cold fast food is on a parr with eating ...</td>\n      <td>1</td>\n      <td>(0)</td>\n      <td>\\n\\t\\t\\t\\t\\tJanuary 26th, 2020\\t\\t\\t\\t</td>\n    </tr>\n    <tr>\n      <th>6</th>\n      <td>Uber don't care anything about their driver's ...</td>\n      <td>1</td>\n      <td>(0)</td>\n      <td>\\n\\t\\t\\t\\t\\tJanuary 28th, 2020\\t\\t\\t\\t</td>\n    </tr>\n    <tr>\n      <th>7</th>\n      <td>Scheduled set appt for 3:00 a.m. pickup for ri...</td>\n      <td>1</td>\n      <td>(0)</td>\n      <td>\\n\\t\\t\\t\\t\\tJanuary 9th, 2020\\t\\t\\t\\t</td>\n    </tr>\n    <tr>\n      <th>8</th>\n      <td>Just read a promotional ad from uber about how...</td>\n      <td>1</td>\n      <td>(0)</td>\n      <td>\\n\\t\\t\\t\\t\\tJune 7th, 2020\\t\\t\\t\\t</td>\n    </tr>\n    <tr>\n      <th>9</th>\n      <td>I used Uber today March 29, the price when I o...</td>\n      <td>1</td>\n      <td>(0)</td>\n      <td>\\n\\t\\t\\t\\t\\tMarch 29th, 2020\\t\\t\\t\\t</td>\n    </tr>\n    <tr>\n      <th>10</th>\n      <td>They will steal your money by charging you for...</td>\n      <td>1</td>\n      <td>(1)</td>\n      <td>\\n\\t\\t\\t\\t\\tFebruary 7th, 2020\\t\\t\\t\\t</td>\n    </tr>\n    <tr>\n      <th>11</th>\n      <td>\\n\\t\\t\\t\\t\\t\\t\\t\\tstood waiting approx 20 minu...</td>\n      <td>5</td>\n      <td>(0)</td>\n      <td>\\n\\t\\t\\t\\t\\tJune 2nd, 2020\\t\\t\\t\\t</td>\n    </tr>\n    <tr>\n      <th>12</th>\n      <td>I would give zero stars if I could. My friend ...</td>\n      <td>1</td>\n      <td>(0)</td>\n      <td>\\n\\t\\t\\t\\t\\tMay 11th, 2020\\t\\t\\t\\t</td>\n    </tr>\n    <tr>\n      <th>13</th>\n      <td>The app breaks down if I tried to do anything ...</td>\n      <td>1</td>\n      <td>(0)</td>\n      <td>\\n\\t\\t\\t\\t\\tMarch 6th, 2020\\t\\t\\t\\t</td>\n    </tr>\n    <tr>\n      <th>14</th>\n      <td>It has come full circle that Uber could care l...</td>\n      <td>1</td>\n      <td>(0)</td>\n      <td>\\n\\t\\t\\t\\t\\tFebruary 25th, 2020\\t\\t\\t\\t</td>\n    </tr>\n    <tr>\n      <th>15</th>\n      <td>The other night driving home with Uber I was t...</td>\n      <td>2</td>\n      <td>(0)</td>\n      <td>\\n\\t\\t\\t\\t\\tMarch 25th, 2020\\t\\t\\t\\t</td>\n    </tr>\n    <tr>\n      <th>16</th>\n      <td>They are extremely unprofessional. Drivers do ...</td>\n      <td>1</td>\n      <td>(0)</td>\n      <td>\\n\\t\\t\\t\\t\\tFebruary 8th, 2020\\t\\t\\t\\t</td>\n    </tr>\n    <tr>\n      <th>17</th>\n      <td>Uber drivers do not follow the route provided ...</td>\n      <td>1</td>\n      <td>(0)</td>\n      <td>\\n\\t\\t\\t\\t\\tJune 3rd, 2020\\t\\t\\t\\t</td>\n    </tr>\n    <tr>\n      <th>18</th>\n      <td>1) most times I have been with friends trying ...</td>\n      <td>2</td>\n      <td>(0)</td>\n      <td>\\n\\t\\t\\t\\t\\tFebruary 10th, 2020\\t\\t\\t\\t</td>\n    </tr>\n    <tr>\n      <th>19</th>\n      <td>Im a uber driver of 5 years in HOUSTON tx here...</td>\n      <td>1</td>\n      <td>(1)</td>\n      <td>\\n\\t\\t\\t\\t\\tJanuary 9th, 2020\\t\\t\\t\\t</td>\n    </tr>\n    <tr>\n      <th>20</th>\n      <td>Uber showed me the fare would be $10 but charg...</td>\n      <td>1</td>\n      <td>(0)</td>\n      <td>\\n\\t\\t\\t\\t\\tMarch 6th, 2020\\t\\t\\t\\t</td>\n    </tr>\n    <tr>\n      <th>21</th>\n      <td>Let me start by saying it is way too complicat...</td>\n      <td>2</td>\n      <td>(0)</td>\n      <td>\\n\\t\\t\\t\\t\\tJune 6th, 2020\\t\\t\\t\\t</td>\n    </tr>\n    <tr>\n      <th>22</th>\n      <td>Used Uber for the first time in Seattle, found...</td>\n      <td>2</td>\n      <td>(2)</td>\n      <td>\\n\\t\\t\\t\\t\\tJanuary 17th, 2019\\t\\t\\t\\t</td>\n    </tr>\n    <tr>\n      <th>23</th>\n      <td>I have driven for this company for a year and ...</td>\n      <td>1</td>\n      <td>(1)</td>\n      <td>\\n\\t\\t\\t\\t\\tFebruary 28th, 2020\\t\\t\\t\\t</td>\n    </tr>\n    <tr>\n      <th>24</th>\n      <td>I have been a driver with Uber for 5 years. Th...</td>\n      <td>1</td>\n      <td>(1)</td>\n      <td>\\n\\t\\t\\t\\t\\tFebruary 21st, 2020\\t\\t\\t\\t</td>\n    </tr>\n    <tr>\n      <th>0</th>\n      <td>\\n\\t\\t\\t\\t\\t\\t\\t\\tUber took $260 from my accou...</td>\n      <td>1</td>\n      <td>(0)</td>\n      <td>\\n\\t\\t\\t\\t\\tDecember 7th, 2019\\t\\t\\t\\t</td>\n    </tr>\n    <tr>\n      <th>1</th>\n      <td>\\n\\t\\t\\t\\t\\t\\t\\t\\tI have over 30 years on the ...</td>\n      <td>1</td>\n      <td>(0)</td>\n      <td>\\n\\t\\t\\t\\t\\tNovember 10th, 2019\\t\\t\\t\\t</td>\n    </tr>\n    <tr>\n      <th>2</th>\n      <td>\\n\\t\\t\\t\\t\\t\\t\\t\\tI scheduled a ride on Uber t...</td>\n      <td>1</td>\n      <td>(0)</td>\n      <td>\\n\\t\\t\\t\\t\\tMarch 13th, 2020\\t\\t\\t\\t</td>\n    </tr>\n    <tr>\n      <th>3</th>\n      <td>\\n\\t\\t\\t\\t\\t\\t\\t\\tI worked for Uber and Lyft f...</td>\n      <td>1</td>\n      <td>(1)</td>\n      <td>\\n\\t\\t\\t\\t\\tOctober 24th, 2019\\t\\t\\t\\t</td>\n    </tr>\n    <tr>\n      <th>4</th>\n      <td>\\n\\t\\t\\t\\t\\t\\t\\t\\tUBER TOOK MY MONEY AND NEVER...</td>\n      <td>1</td>\n      <td>(0)</td>\n      <td>\\n\\t\\t\\t\\t\\tJanuary 27th, 2020\\t\\t\\t\\t</td>\n    </tr>\n    <tr>\n      <th>5</th>\n      <td>\\n\\t\\t\\t\\t\\t\\t\\t\\tWe took an Uber in JFK and t...</td>\n      <td>1</td>\n      <td>(0)</td>\n      <td>\\n\\t\\t\\t\\t\\tDecember 15th, 2019\\t\\t\\t\\t</td>\n    </tr>\n    <tr>\n      <th>6</th>\n      <td>\\n\\t\\t\\t\\t\\t\\t\\t\\tI must be the only person in...</td>\n      <td>1</td>\n      <td>(3)</td>\n      <td>\\n\\t\\t\\t\\t\\tNovember 18th, 2019\\t\\t\\t\\t</td>\n    </tr>\n    <tr>\n      <th>7</th>\n      <td>\\n\\t\\t\\t\\t\\t\\t\\t\\tI called uber for going home...</td>\n      <td>1</td>\n      <td>(0)</td>\n      <td>\\n\\t\\t\\t\\t\\tOctober 10th, 2019\\t\\t\\t\\t</td>\n    </tr>\n    <tr>\n      <th>8</th>\n      <td>\\n\\t\\t\\t\\t\\t\\t\\t\\tI'm a frequent uber user and...</td>\n      <td>1</td>\n      <td>(2)</td>\n      <td>\\n\\t\\t\\t\\t\\tJanuary 24th, 2019\\t\\t\\t\\t</td>\n    </tr>\n    <tr>\n      <th>9</th>\n      <td>\\n\\t\\t\\t\\t\\t\\t\\t\\tSo, over the last few years ...</td>\n      <td>5</td>\n      <td>(0)</td>\n      <td>\\n\\t\\t\\t\\t\\tDecember 23rd, 2019\\t\\t\\t\\t</td>\n    </tr>\n    <tr>\n      <th>10</th>\n      <td>\\n\\t\\t\\t\\t\\t\\t\\t\\tVery convenient/useful/good ...</td>\n      <td>5</td>\n      <td>(0)</td>\n      <td>\\n\\t\\t\\t\\t\\tJune 10th, 2019\\t\\t\\t\\t</td>\n    </tr>\n    <tr>\n      <th>11</th>\n      <td>\\n\\t\\t\\t\\t\\t\\t\\t\\tTo be very honest here us Ub...</td>\n      <td>1</td>\n      <td>(1)</td>\n      <td>\\n\\t\\t\\t\\t\\tDecember 11th, 2019\\t\\t\\t\\t</td>\n    </tr>\n    <tr>\n      <th>12</th>\n      <td>\\n\\t\\t\\t\\t\\t\\t\\t\\tI used Uber from my home to ...</td>\n      <td>2</td>\n      <td>(2)</td>\n      <td>\\n\\t\\t\\t\\t\\tMarch 18th, 2019\\t\\t\\t\\t</td>\n    </tr>\n    <tr>\n      <th>13</th>\n      <td>\\n\\t\\t\\t\\t\\t\\t\\t\\tUber's customer service depa...</td>\n      <td>1</td>\n      <td>(0)</td>\n      <td>\\n\\t\\t\\t\\t\\tJune 27th, 2019\\t\\t\\t\\t</td>\n    </tr>\n    <tr>\n      <th>14</th>\n      <td>\\n\\t\\t\\t\\t\\t\\t\\t\\tI've been using Uber for a g...</td>\n      <td>5</td>\n      <td>(0)</td>\n      <td>\\n\\t\\t\\t\\t\\tJune 22nd, 2019\\t\\t\\t\\t</td>\n    </tr>\n    <tr>\n      <th>15</th>\n      <td>\\n\\t\\t\\t\\t\\t\\t\\t\\tThey never showed up for the...</td>\n      <td>1</td>\n      <td>(0)</td>\n      <td>\\n\\t\\t\\t\\t\\tFebruary 20th, 2019\\t\\t\\t\\t</td>\n    </tr>\n    <tr>\n      <th>16</th>\n      <td>\\n\\t\\t\\t\\t\\t\\t\\t\\tI have a temp medical condit...</td>\n      <td>1</td>\n      <td>(0)</td>\n      <td>\\n\\t\\t\\t\\t\\tJune 16th, 2019\\t\\t\\t\\t</td>\n    </tr>\n    <tr>\n      <th>17</th>\n      <td>\\n\\t\\t\\t\\t\\t\\t\\t\\tI left my phone in the car d...</td>\n      <td>1</td>\n      <td>(0)</td>\n      <td>\\n\\t\\t\\t\\t\\tAugust 15th, 2019\\t\\t\\t\\t</td>\n    </tr>\n    <tr>\n      <th>18</th>\n      <td>\\n\\t\\t\\t\\t\\t\\t\\t\\tUber charged me twice for th...</td>\n      <td>1</td>\n      <td>(1)</td>\n      <td>\\n\\t\\t\\t\\t\\tJanuary 3rd, 2019\\t\\t\\t\\t</td>\n    </tr>\n    <tr>\n      <th>19</th>\n      <td>\\n\\t\\t\\t\\t\\t\\t\\t\\tVisiting Canada but drivers ...</td>\n      <td>1</td>\n      <td>(1)</td>\n      <td>\\n\\t\\t\\t\\t\\tMay 15th, 2018\\t\\t\\t\\t</td>\n    </tr>\n    <tr>\n      <th>20</th>\n      <td>\\n\\t\\t\\t\\t\\t\\t\\t\\tUber charged me about a tota...</td>\n      <td>1</td>\n      <td>(0)</td>\n      <td>\\n\\t\\t\\t\\t\\tApril 30th, 2019\\t\\t\\t\\t</td>\n    </tr>\n    <tr>\n      <th>21</th>\n      <td>\\n\\t\\t\\t\\t\\t\\t\\t\\tOk so I schedule my very fir...</td>\n      <td>4</td>\n      <td>(0)</td>\n      <td>\\n\\t\\t\\t\\t\\tMarch 18th, 2020\\t\\t\\t\\t</td>\n    </tr>\n    <tr>\n      <th>22</th>\n      <td>\\n\\t\\t\\t\\t\\t\\t\\t\\tI'm A Uber Driver &amp; In Not H...</td>\n      <td>1</td>\n      <td>(1)</td>\n      <td>\\n\\t\\t\\t\\t\\tApril 26th, 2019\\t\\t\\t\\t</td>\n    </tr>\n    <tr>\n      <th>23</th>\n      <td>\\n\\t\\t\\t\\t\\t\\t\\t\\tUber Support for Drivers is ...</td>\n      <td>1</td>\n      <td>(2)</td>\n      <td>\\n\\t\\t\\t\\t\\tApril 18th, 2019\\t\\t\\t\\t</td>\n    </tr>\n    <tr>\n      <th>24</th>\n      <td>\\n\\t\\t\\t\\t\\t\\t\\t\\tI tried to schedule a trip f...</td>\n      <td>1</td>\n      <td>(4)</td>\n      <td>\\n\\t\\t\\t\\t\\tAugust 10th, 2018\\t\\t\\t\\t</td>\n    </tr>\n  </tbody>\n</table>\n</div>"
     },
     "metadata": {},
     "execution_count": 6
    }
   ],
   "source": [
    "soup = BeautifulSoup(driver.page_source, 'html.parser')\n",
    "review_containers = list(soup.find_all(class_ = \"review__container\"))\n",
    "\n",
    "review_text = []\n",
    "review_stars = []\n",
    "review_helpful_count = []\n",
    "review_date = []\n",
    "\n",
    "df_temp = pd.DataFrame(columns=[\"Text\", \"Stars\", \"Helpful_Count\", \"Date\"])\n",
    "\n",
    "for i in range(len(review_containers)):\n",
    "\n",
    "    review_content = review_containers[i]\n",
    "\n",
    "    review_text.append(review_content.find(class_= \"review__text\").get_text())\n",
    "    review_stars.append(review_content.find(class_='stars').__getitem__(\"title\")[0])\n",
    "    review_helpful_count.append(review_content.find(class_='helpful__count').get_text())\n",
    "    review_date.append(review_content.find(class_= \"review__date\").get_text())\n",
    "\n",
    "df_temp[\"Text\"] = review_text\n",
    "df_temp[\"Stars\"] = review_stars\n",
    "df_temp[\"Helpful_Count\"] = review_helpful_count\n",
    "df_temp[\"Date\"] = review_date\n",
    "\n",
    "df = df.append(df_temp)\n",
    "df"
   ]
  },
  {
   "cell_type": "code",
   "execution_count": 119,
   "metadata": {},
   "outputs": [],
   "source": [
    "df.to_excel(\"SiteJabber.xlsx\")"
   ]
  },
  {
   "cell_type": "markdown",
   "metadata": {},
   "source": [
    "Cosumer Affairs"
   ]
  },
  {
   "cell_type": "code",
   "execution_count": 2,
   "metadata": {
    "tags": [
     "outputPrepend",
     "outputPrepend"
    ]
   },
   "outputs": [
    {
     "output_type": "stream",
     "name": "stdout",
     "text": "page 1\n0\n1\n2\n3\n4\n5\n6\n7\n8\n9\npage 2\n0\n1\n2\n3\n4\n5\n6\n7\n8\n9\npage 3\n0\n1\n2\n3\n4\n5\n6\n7\n8\n9\npage 4\n0\n1\n2\n3\n4\n5\n6\n7\n8\n9\n10\n11\n12\n13\n14\n15\n16\n17\n18\n19\n20\n21\n22\n23\n24\n25\n26\n27\n28\n29\npage 5\n0\n1\n2\n3\n4\n5\n6\n7\n8\n9\n10\n11\n12\n13\n14\n15\n16\n17\n18\n19\n20\n21\n22\n23\n24\n25\n26\n27\n28\n29\npage 6\n0\n1\n2\n3\n4\n5\n6\n7\n8\n9\n10\n11\n12\n13\n14\n15\n16\n17\n18\n19\n20\n21\n22\n23\n24\n25\n26\n27\n28\n29\npage 7\n0\n1\n2\n3\n4\n5\n6\n7\n8\n9\n10\n11\n12\n13\n14\n15\n16\n17\n18\n19\n20\n21\n22\n23\n24\n25\n26\n27\n28\n29\npage 8\n0\n1\n2\n3\n4\n5\n6\n7\n8\n9\n10\n11\n12\n13\n14\n15\n16\n17\n18\n19\n20\n21\n22\n23\n24\n25\n26\n27\n28\n29\npage 9\n0\n1\n2\n3\n4\n5\n6\n7\n8\n9\n10\n11\n12\n13\n14\n15\n16\n17\n18\n19\n20\n21\n22\n23\n24\n25\n26\n27\n28\n29\npage 10\n0\n1\n2\n3\n4\n5\n6\n7\n8\n9\n10\n11\n12\n13\n14\n15\n16\n17\n18\n19\n20\n21\n22\n23\n24\n25\n26\n27\n28\n29\npage 11\n0\n1\n2\n3\n4\n5\n6\n7\n8\n9\n10\n11\n12\n13\n14\n15\n16\n17\n18\n19\n20\n21\n22\n23\n24\n25\n26\n27\n28\n29\npage 12\n0\n1\n2\n3\n4\n5\n6\n7\n8\n9\n10\n11\n12\n13\n14\n15\n16\n17\n18\n19\n20\n21\n22\n23\n24\n25\n26\n27\n28\n29\npage 13\n0\n1\n2\n3\n4\n5\n6\n7\n8\n9\n10\n11\n12\n13\n14\n15\n16\n17\n18\n19\n20\n21\n22\n23\n24\n25\n26\n27\n28\n29\npage 14\n0\n1\n2\n3\n4\n5\n6\n7\n8\n9\n10\n11\n12\n13\n14\n15\n16\n17\n18\n19\n20\n21\n22\n23\n24\n25\n26\n27\n28\n29\npage 15\n0\n1\n2\n3\n4\n5\n6\n7\n8\n9\n10\n11\n12\n13\n14\n15\n16\n17\n18\n19\n20\n21\n22\n23\n24\n25\n26\n27\n28\n29\npage 16\n0\n1\n2\n3\n4\n5\n6\n7\n8\n9\n10\n11\n12\n13\n14\n15\n16\n17\n18\n19\n20\n21\n22\n23\n24\n25\n26\n27\n28\n29\npage 17\n0\n1\n2\n3\n4\n5\n6\n7\n8\n9\n10\n11\n12\n13\n14\n15\n16\n17\n18\n19\n20\n21\n22\n23\n24\n25\n26\n27\n28\n29\npage 18\n0\n1\n2\n3\n4\n5\n6\n7\n8\n9\n10\n11\n12\n13\n14\n15\n16\n17\n18\n19\n20\n21\n22\n23\n24\n25\n26\n27\n28\n29\npage 19\n0\n1\n2\n3\n4\n5\n6\n7\n8\n9\n10\n11\n12\n13\n14\n15\n16\n17\n18\n19\n20\n21\n22\n23\n24\n25\n26\n27\n28\n29\npage 20\n0\n1\n2\n3\n4\n5\n6\n7\n8\n9\n10\n11\n12\n13\n14\n15\n16\n17\n18\n19\n20\n21\n22\n23\n24\n25\n26\n27\n28\n29\npage 21\n0\n1\n2\n3\n4\n5\n6\n7\n8\n9\n10\n11\n12\n13\n14\n15\n16\n17\n18\n19\n20\n21\n22\n23\n24\n25\n26\n27\n28\n29\npage 22\n0\n1\n2\n3\n4\n5\n6\n7\n8\n9\n10\n11\n12\n13\n14\n15\n16\n17\n18\n19\n20\n21\n22\n23\n24\n25\n26\n27\n28\n29\npage 23\n0\n1\n2\n3\n4\n5\n6\n7\n8\n9\n10\n11\n12\n13\n14\n15\n16\n17\n18\n19\n20\n21\n22\n23\n24\n25\n26\n27\n28\n29\npage 24\n0\n1\n2\n3\n4\n5\n6\n7\n8\n9\n10\n11\n12\n13\n14\n15\n16\n17\n18\n19\n20\n21\n22\n23\n24\n25\n26\n27\n28\n29\npage 25\n0\n1\n2\n3\n4\n5\n6\n7\n8\n9\n10\n11\n12\n13\n14\n15\n16\n17\n18\n19\n20\n21\n22\n23\n24\n25\n26\n27\n28\n29\npage 26\n0\n1\n2\n3\n4\n5\n6\n7\n8\n9\n10\n11\n12\n13\n14\n15\n16\n17\n18\n19\n20\n21\n22\n23\n24\n25\n26\n27\n28\n29\npage 27\n0\n1\n2\n3\n4\n5\n6\n7\n8\n9\n10\n11\n12\n13\n14\n15\n16\n17\n18\n19\n20\n21\n22\n23\n24\n25\n26\n27\n28\n29\npage 28\n0\n1\n2\n3\n4\n5\n6\n7\n8\n9\n10\n11\n12\n13\n14\n15\n16\n17\n18\n19\n20\n21\n22\n23\n24\n25\n26\n27\n28\n29\npage 29\n0\n1\n2\n3\n4\n5\n6\n7\n8\n9\n10\n11\n12\n13\n14\n15\n16\n17\n18\n19\n20\n21\n22\n23\n24\n25\n26\n27\n28\n29\npage 30\n0\n1\n2\n3\n4\n5\n6\n7\n8\n9\n10\n11\n12\n13\n14\n15\n16\n17\n18\n19\n20\n21\n22\n23\n24\n25\n26\n27\n28\n29\npage 31\n0\n1\n2\n3\n4\n5\n6\n7\n8\n9\n10\n11\n12\n13\n14\n15\n16\n17\n18\n19\n20\n21\n22\n23\n24\n25\n26\n27\n28\n29\npage 32\n0\n1\n2\n3\n4\n5\n6\n7\n8\n9\n10\n11\n12\n13\n14\n15\n16\n17\n18\n19\n20\n21\n22\n23\n24\n25\n26\n27\n28\n29\npage 33\n0\n1\n2\n3\n4\n5\n6\n7\n8\n9\n10\n11\n12\n13\n14\n15\n16\n17\n18\n19\n20\n21\n22\n23\n24\n25\n26\n27\n28\n29\npage 34\n0\n1\n2\n3\n4\n5\n6\n7\n8\n9\n10\n11\n12\n13\n14\n15\n16\n17\n18\n19\n20\n21\n22\n23\n24\n25\n26\n27\n28\n29\npage 35\n0\n1\n2\n3\n4\n5\n6\n7\n8\n9\n10\n11\n12\n13\n14\n15\n16\n17\n18\n19\n20\n21\n22\n23\n24\n25\n26\n27\n28\n29\npage 36\n0\n1\n2\n3\n4\n5\n6\n7\n8\n9\n10\n11\n12\n13\n14\n15\n16\n17\n18\n19\n20\n21\n22\n23\n24\n25\n26\n27\n28\n29\npage 37\n0\n1\n2\n3\n4\n5\n6\n7\n8\n9\n10\n11\n12\n13\n14\n15\n16\n17\n18\n19\n20\n21\n22\n23\n24\n25\n26\n27\n28\n29\npage 38\n0\n1\n2\n3\n4\n5\n6\n7\n8\n9\n10\n11\n12\n13\n14\n15\n16\n17\n18\n19\n20\n21\n22\n23\n24\n25\n26\n27\n28\n29\npage 39\n0\n1\n2\n3\n4\n5\n6\n7\n8\n9\n10\n11\n12\n13\n14\n15\n16\n17\n18\n19\n20\n21\n22\n23\n24\n25\n26\n27\n28\n29\npage 40\n0\n1\n2\n3\n4\n5\n6\n7\n8\n9\n10\n11\n12\n13\n14\n15\n16\n17\n18\n19\n20\n21\n22\n23\n24\n25\n26\n27\n28\n29\npage 41\n0\n1\n2\n3\n4\n5\n6\n7\n8\n9\n10\n11\n12\n13\n14\n15\n16\n17\n18\n19\n20\n21\n22\n23\n24\n25\n26\n27\n28\n29\npage 42\n0\n1\n2\n3\n4\n5\n6\n7\n8\n9\n10\n11\n12\n13\n14\n15\n16\n17\n18\n19\n20\n21\n22\n23\n24\n25\n26\n27\n28\n29\npage 43\n0\n1\n2\n3\n4\n5\n6\n7\n8\n9\n10\n11\n12\n13\n14\n15\n16\n17\n18\n19\n20\n21\n22\n23\n24\n25\n26\n27\n28\n29\npage 44\n0\n1\n2\n3\n4\n5\n6\n7\n8\n9\n10\n11\n12\n13\n14\n15\n16\n17\n18\n19\n20\n21\n22\n23\n24\n25\n26\n27\n28\n29\npage 45\n0\n1\n2\n3\n4\n5\n6\n7\n8\n9\n10\n11\n12\n13\n14\n15\n16\n17\n18\n19\n20\n21\n22\n23\n24\n25\n26\n27\n28\n29\npage 46\n0\n1\n2\n3\n4\n5\n6\n7\n8\n9\n10\n11\n12\n13\n14\n15\n16\n17\n18\n19\n20\n21\n22\n23\n24\n25\n26\n27\n28\n29\npage 47\n0\n1\n2\n3\n4\n5\n6\n7\n8\n9\n10\n11\n12\n13\n14\n15\n16\n17\n18\n19\n20\n21\n22\n23\n24\n25\n26\n27\n28\n29\npage 48\n0\n1\n2\n3\n4\n5\n6\n7\n8\n9\n10\n11\n12\n13\n14\n15\n16\n17\n18\n19\n20\n21\n22\n23\n24\n25\n26\n27\n28\n29\npage 49\n0\n1\n2\n3\n4\n5\n6\n7\n8\n9\n10\n11\n12\n13\n14\n15\n16\n17\n18\n19\n20\n21\n22\n23\n24\n25\n26\n27\n28\n29\npage 50\n0\n1\n2\n3\n4\n5\n6\n7\n8\n9\n10\n11\n12\n13\n14\n15\n16\n17\n18\n19\n20\n21\n22\n23\n24\n25\n26\n27\n28\n29\npage 51\n0\n1\n2\n3\n4\n5\n6\n7\n8\n9\n10\n11\n12\n13\n14\n15\n16\n17\n18\n19\n20\n21\n22\n23\n24\n25\n26\n27\n28\n29\npage 52\n0\n1\n2\n3\n4\n5\n6\n7\n8\n9\n10\n11\n12\n13\n14\n15\n16\n17\n18\n19\n20\n21\n22\n23\n24\n25\n26\n27\n28\n29\npage 53\n0\n1\n2\n3\n4\n5\n6\n7\n8\n9\n10\n11\n12\n13\n14\n15\n16\n17\n18\n19\n20\n21\n22\n23\n24\n25\n26\n27\n28\n29\npage 54\n0\n1\n2\n3\n4\n5\n6\n7\n8\n9\n10\n11\n12\n13\n14\n15\n16\n17\n18\n19\n20\n21\n22\n23\n24\n25\n26\n27\n28\n29\npage 55\n0\n1\n2\n3\n4\n5\n6\n7\n8\n9\n10\n11\n12\n13\n14\n15\n16\n17\n18\n19\n20\n21\n22\n23\n24\n25\n26\n27\n28\n29\npage 56\n0\n1\n2\n3\n4\n5\n6\n7\n8\n9\n10\n11\n12\n13\n14\n15\n16\n17\n18\n19\n20\n21\n22\n23\n24\n25\n26\n27\n28\n29\npage 57\n0\n1\n2\n3\n4\n5\n6\n7\n8\n9\n10\n11\n12\n13\n14\n15\n16\n17\n18\n19\n20\n21\n22\n23\n24\n25\n26\n27\n28\n29\npage 58\n0\n1\n2\n3\n4\n5\n6\n7\n8\n9\n10\n11\n12\n13\n14\n15\n16\n17\n18\n19\n20\n21\n22\n23\n24\n25\n26\n27\n28\n29\npage 59\n0\n1\n2\n3\n4\n5\n6\n7\n8\n9\n10\n11\n12\n13\n14\n15\n16\n17\n18\n19\n20\n21\n22\n23\n24\n25\n26\n27\n28\n29\npage 60\n0\n1\n2\n3\n4\n5\n6\n7\n8\n9\n10\n11\n12\n13\n14\n15\n16\n17\n18\n19\n20\n21\n22\n23\n24\n25\n26\n27\n28\n29\npage 61\n0\n1\n2\n3\n4\n5\n6\n7\n8\n9\n10\n11\n12\n13\n14\n15\n16\n17\n18\n19\n20\n21\n22\n23\n24\n25\n26\n27\n28\n29\npage 62\n0\n1\n2\n3\n4\n5\n6\n7\n8\n9\n10\n11\n12\n"
    }
   ],
   "source": [
    "#launch url\n",
    "url_base = \"https://www.consumeraffairs.com/travel/uber.html\"\n",
    "\n",
    "review_text = []\n",
    "review_stars = []\n",
    "review_helpful_count = []\n",
    "review_date = []\n",
    "\n",
    "\n",
    "for page in range(1,63):\n",
    "    print(\"page\" , page)\n",
    "    url_appendix = \"?page=\" + str(page) + \"#sort=recent&filter=none\"\n",
    "    page = requests.get(url_base + url_appendix)\n",
    "\n",
    "    soup = BeautifulSoup(page.content, 'html.parser')\n",
    "    review_containers = list(soup.find_all(class_ = \"rvw js-rvw\"))\n",
    "\n",
    "    for container in range(len(review_containers)):\n",
    "        review_container = review_containers[container]\n",
    "\n",
    "        review_date.append(review_container.find(class_ =\"ca-txt-cpt\").get_text())\n",
    "        review_stars.append(list(review_container)[0].meta[\"content\"])\n",
    "\n",
    "        a = review_container.find(class_ =\"rvw-bd\")\n",
    "        review_text.append(a.find_all(\"p\")[1].get_text()  +  a.find_all(\"p\")[-1].get_text())\n",
    "\n",
    "        b = review_container.find(class_ =\"rvw-foot__helpful-count js-helpful-count\")\n",
    "        review_helpful_count.append(b.get_text())\n",
    "        print(container)\n"
   ]
  },
  {
   "cell_type": "code",
   "execution_count": 3,
   "metadata": {},
   "outputs": [],
   "source": [
    "df_temp = pd.DataFrame(columns=[\"Text\", \"Stars\", \"Helpful_Count\", \"Date\"])\n",
    "df_temp[\"Text\"] = review_text\n",
    "df_temp[\"Stars\"] = review_stars\n",
    "df_temp[\"Helpful_Count\"] = review_helpful_count\n",
    "df_temp[\"Date\"] = review_date\n",
    "\n",
    "df_consumer_affairs = pd.DataFrame(columns=[\"Text\", \"Stars\", \"Helpful_Count\", \"Date\"])\n",
    "\n",
    "df_consumer_affairs = df_consumer_affairs.append(df_temp)"
   ]
  },
  {
   "cell_type": "code",
   "execution_count": 4,
   "metadata": {},
   "outputs": [
    {
     "output_type": "execute_result",
     "data": {
      "text/plain": "                                                     Text Stars  \\\ncount                                                1783  1783   \nunique                                               1781     1   \ntop     I had to use Uber for a few occasions when my ...     1   \nfreq                                                    2  1783   \n\n                                            Helpful_Count  \\\ncount                                                1783   \nunique                                                 43   \ntop     \\n            \\n                \\n            ...   \nfreq                                                  533   \n\n                                  Date  \ncount                             1783  \nunique                             958  \ntop     Original review: March 7, 2019  \nfreq                                13  ",
      "text/html": "<div>\n<style scoped>\n    .dataframe tbody tr th:only-of-type {\n        vertical-align: middle;\n    }\n\n    .dataframe tbody tr th {\n        vertical-align: top;\n    }\n\n    .dataframe thead th {\n        text-align: right;\n    }\n</style>\n<table border=\"1\" class=\"dataframe\">\n  <thead>\n    <tr style=\"text-align: right;\">\n      <th></th>\n      <th>Text</th>\n      <th>Stars</th>\n      <th>Helpful_Count</th>\n      <th>Date</th>\n    </tr>\n  </thead>\n  <tbody>\n    <tr>\n      <th>count</th>\n      <td>1783</td>\n      <td>1783</td>\n      <td>1783</td>\n      <td>1783</td>\n    </tr>\n    <tr>\n      <th>unique</th>\n      <td>1781</td>\n      <td>1</td>\n      <td>43</td>\n      <td>958</td>\n    </tr>\n    <tr>\n      <th>top</th>\n      <td>I had to use Uber for a few occasions when my ...</td>\n      <td>1</td>\n      <td>\\n            \\n                \\n            ...</td>\n      <td>Original review: March 7, 2019</td>\n    </tr>\n    <tr>\n      <th>freq</th>\n      <td>2</td>\n      <td>1783</td>\n      <td>533</td>\n      <td>13</td>\n    </tr>\n  </tbody>\n</table>\n</div>"
     },
     "metadata": {},
     "execution_count": 4
    }
   ],
   "source": [
    "df_consumer_affairs.describe()"
   ]
  },
  {
   "cell_type": "code",
   "execution_count": 84,
   "metadata": {},
   "outputs": [],
   "source": []
  },
  {
   "cell_type": "code",
   "execution_count": 5,
   "metadata": {},
   "outputs": [],
   "source": [
    "df_consumer_affairs.to_excel(\"ConsumerAffairs.xlsx\")"
   ]
  },
  {
   "cell_type": "code",
   "execution_count": 8,
   "metadata": {},
   "outputs": [],
   "source": [
    "#launch url\n",
    "url = \"https://www.consumeraffairs.com/travel/uber.html\"\n",
    "\n",
    "# create a new Chrome session\n",
    "driver = webdriver.Chrome()\n",
    "driver.implicitly_wait(30)\n",
    "driver.get(url)"
   ]
  },
  {
   "cell_type": "code",
   "execution_count": 9,
   "metadata": {},
   "outputs": [],
   "source": [
    "soup = BeautifulSoup(driver.page_source, 'html.parser')\n",
    "review_containers = list(soup.find_all(class_ = \"rvw js-rvw\"))"
   ]
  },
  {
   "cell_type": "code",
   "execution_count": 255,
   "metadata": {},
   "outputs": [
    {
     "output_type": "execute_result",
     "data": {
      "text/plain": "'Original review: May 29, 2020'"
     },
     "metadata": {},
     "execution_count": 255
    }
   ],
   "source": [
    "review_date = review_containers[0].find(class_ =\"ca-txt-cpt\").get_text()\n",
    "review_date"
   ]
  },
  {
   "cell_type": "code",
   "execution_count": 68,
   "metadata": {},
   "outputs": [],
   "source": [
    "url_base = \"https://www.consumeraffairs.com/travel/uber.html\"\n",
    "\n",
    "review_text = []\n",
    "review_stars = []\n",
    "review_helpful_count = []\n",
    "review_date = []\n",
    "\n",
    "\n",
    "\n",
    "url_appendix = \"?page=\" + str(3) + \"#sort=recent&filter=none\"\n",
    "page = requests.get(url_base + url_appendix)\n",
    "\n",
    "soup = BeautifulSoup(page.content, 'html.parser')\n",
    "review_containers = list(soup.find_all(class_ = \"rvw js-rvw\"))"
   ]
  },
  {
   "cell_type": "code",
   "execution_count": 77,
   "metadata": {},
   "outputs": [
    {
     "output_type": "stream",
     "name": "stdout",
     "text": "<div class=\"rvw__hdr\"><div class=\"rvw__hdr-stat\" itemprop=\"reviewRating\" itemscope=\"\" itemtype=\"http://schema.org/Rating\"><meta content=\"1\" itemprop=\"worstRating\"/><img alt=\"Rated with 1 star\" class=\"stars-rtg stars-rtg--sm\" data-rating=\"1.0\" src=\"//media.consumeraffairs.com/static/img/icons/stars/ca-stars-1.86dfada66e1f.svg\"/><meta content=\"1\" itemprop=\"ratingValue\"/><meta content=\"5\" itemprop=\"bestRating\"/></div></div>\n"
    },
    {
     "output_type": "execute_result",
     "data": {
      "text/plain": "'1'"
     },
     "metadata": {},
     "execution_count": 77
    }
   ],
   "source": [
    "n =1\n",
    "review_stars = list(review_containers[n])[0]\n",
    "print(review_stars)\n",
    "review_stars = list(review_containers[n])[0].meta[\"content\"]\n",
    "review_stars"
   ]
  },
  {
   "cell_type": "code",
   "execution_count": 57,
   "metadata": {},
   "outputs": [
    {
     "output_type": "execute_result",
     "data": {
      "text/plain": "'I have used Uber 4 times and never again. Three were horrible experiences and they make it almost impossible to contact Customer Service and when I asked the lady via e-mail to call me and gave her my number because I have a tear in my shoulder, she would not respond. All 3 of these bad experiences were men who tried their lack of English as an excuse. I taught Special Ed 23 yrs. Most people’s issues is that people try to use their language as an excuse for their poor behavior. So, that gives drivers excuses to play sex music where it’s talking about what a woman will do after you give her 3 shots and 5 shots. Dang, alone in a car with a stranger and he’s playing that music, drivers refusing to go towards your house and taking trips that makes the distance 3 times farther just to charge you more.Their Customer Service does not care and they have gone through so much to make it virtually impossible to contact them. Please be careful using Uber. Never use one alone especially if you are a woman and a hospital has sent you out even when you keep telling them you are way too loopy. Our country is in crisis and I no longer even want to leave my home but have to take a taxi to get the medicine filled that that the ER drs gave me a script for.'"
     },
     "metadata": {},
     "execution_count": 57
    }
   ],
   "source": [
    "a = review_containers[6].find(class_ =\"rvw-bd\")\n",
    "review_text = a.find_all(\"p\")[1].get_text()  +  a.find_all(\"p\")[-1].get_text()\n",
    "review_text"
   ]
  },
  {
   "cell_type": "code",
   "execution_count": 58,
   "metadata": {},
   "outputs": [
    {
     "output_type": "execute_result",
     "data": {
      "text/plain": "'\\n            \\n                \\n                    Be the first one to find this review helpful\\n                \\n            \\n        '"
     },
     "metadata": {},
     "execution_count": 58
    }
   ],
   "source": [
    "b = review_containers[6].find(class_ =\"rvw-foot__helpful-count js-helpful-count\")\n",
    "review_helpful_count = b.get_text()\n",
    "review_helpful_count"
   ]
  },
  {
   "cell_type": "code",
   "execution_count": null,
   "metadata": {},
   "outputs": [],
   "source": [
    "soup = BeautifulSoup(driver.page_source, 'html.parser')\n",
    "review_containers = list(soup.find_all(class_ = \"review__container\"))\n",
    "\n",
    "review_text = []\n",
    "review_stars = []\n",
    "review_helpful_count = []\n",
    "review_date = []\n",
    "\n",
    "# df_temp = pd.DataFrame(columns=[\"Text\", \"Stars\", \"Helpful_Count\", \"Date\"])\n",
    "\n",
    "# for i in range(len(review_containers)):\n",
    "\n",
    "# review_content = review_containers[i]\n",
    "\n",
    "# review_text.append(review_content.find(class_= \"review__text\").get_text())\n",
    "# review_stars.append(review_content.find(class_='stars').__getitem__(\"title\")[0])\n",
    "# review_helpful_count.append(review_content.find(class_='helpful__count').get_text())\n",
    "# review_date.append(review_content.find(class_= \"review__date\").get_text())\n",
    "\n",
    "# df_temp[\"Text\"] = review_text\n",
    "# df_temp[\"Stars\"] = review_stars\n",
    "# df_temp[\"Helpful_Count\"] = review_helpful_count\n",
    "# df_temp[\"Date\"] = review_date\n",
    "\n",
    "# df = df.append(df_temp)\n",
    "# df"
   ]
  },
  {
   "cell_type": "code",
   "execution_count": null,
   "metadata": {},
   "outputs": [],
   "source": []
  }
 ],
 "metadata": {
  "language_info": {
   "name": "python",
   "codemirror_mode": {
    "name": "ipython",
    "version": 3
   },
   "version": "3.7.6-final"
  },
  "orig_nbformat": 2,
  "file_extension": ".py",
  "mimetype": "text/x-python",
  "name": "python",
  "npconvert_exporter": "python",
  "pygments_lexer": "ipython3",
  "version": 3,
  "kernelspec": {
   "name": "python37164bit10virtualenvcae4b91a0a4b4b17865e448f6050f74c",
   "display_name": "Python 3.7.1 64-bit ('10': virtualenv)"
  }
 },
 "nbformat": 4,
 "nbformat_minor": 2
}