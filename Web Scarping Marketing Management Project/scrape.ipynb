{
 "cells": [
  {
   "cell_type": "code",
   "execution_count": 2,
   "metadata": {},
   "outputs": [],
   "source": [
    "from bs4 import BeautifulSoup\n",
    "import pprint\n",
    "import requests\n",
    "import pandas as pd\n",
    "URL = 'https://www.sitejabber.com/reviews/uber.com'"
   ]
  },
  {
   "cell_type": "code",
   "execution_count": 4,
   "metadata": {
    "tags": [
     "outputPrepend"
    ]
   },
   "outputs": [
    {
     "output_type": "stream",
     "name": "stdout",
     "text": "None\n"
    }
   ],
   "source": [
    "page = requests.get(URL)\n",
    "soup = BeautifulSoup(page.content, 'html.parser')\n",
    "reviews_container = soup.find(\"#ReviewRow-805 > div > div.review__content\")\n",
    "print(reviews_container)\n",
    "# reviews = reviews_container.select(\".review__content\")'  "
   ]
  },
  {
   "cell_type": "code",
   "execution_count": null,
   "metadata": {},
   "outputs": [],
   "source": []
  }
 ],
 "metadata": {
  "language_info": {
   "name": "python",
   "codemirror_mode": {
    "name": "ipython",
    "version": 3
   },
   "version": "3.7.6-final"
  },
  "orig_nbformat": 2,
  "file_extension": ".py",
  "mimetype": "text/x-python",
  "name": "python",
  "npconvert_exporter": "python",
  "pygments_lexer": "ipython3",
  "version": 3,
  "kernelspec": {
   "name": "python37164bit10virtualenvcae4b91a0a4b4b17865e448f6050f74c",
   "display_name": "Python 3.7.1 64-bit ('10': virtualenv)"
  }
 },
 "nbformat": 4,
 "nbformat_minor": 2
}