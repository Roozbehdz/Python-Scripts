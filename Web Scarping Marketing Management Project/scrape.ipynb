{
 "cells": [
  {
   "cell_type": "code",
   "execution_count": 275,
   "metadata": {},
   "outputs": [],
   "source": [
    "from selenium import webdriver\n",
    "from selenium.webdriver.common.keys import Keys\n",
    "from bs4 import BeautifulSoup\n",
    "import re\n",
    "import pandas as pd\n",
    "import os\n",
    "from selenium.webdriver.support.ui import WebDriverWait\n",
    "from selenium.webdriver.support import expected_conditions as EC\n",
    "from bs4 import BeautifulSoup\n",
    "import pprint\n",
    "import time\n",
    "import requests"
   ]
  },
  {
   "cell_type": "markdown",
   "metadata": {},
   "source": [
    "Site Jabber"
   ]
  },
  {
   "cell_type": "code",
   "execution_count": 82,
   "metadata": {},
   "outputs": [],
   "source": [
    "#launch url\n",
    "url = \"https://www.sitejabber.com/reviews/uber.com\"\n",
    "\n",
    "# create a new Chrome session\n",
    "driver = webdriver.Chrome()\n",
    "driver.implicitly_wait(30)\n",
    "driver.get(url)\n",
    "\n",
    "# time.sleep(30)\n",
    "# python_button = driver.find_element_by_css_selector('#reviews > div.url-reviews__ajax > div.pagination > div.pagination__next > span > a')\n",
    "# python_button.click() #click fhsu link\n"
   ]
  },
  {
   "cell_type": "code",
   "execution_count": 83,
   "metadata": {},
   "outputs": [],
   "source": [
    "df = pd.DataFrame(columns=[\"Text\", \"Stars\", \"Helpful_Count\", \"Date\"])"
   ]
  },
  {
   "cell_type": "code",
   "execution_count": 73,
   "metadata": {},
   "outputs": [
    {
     "output_type": "execute_result",
     "data": {
      "text/plain": "25"
     },
     "metadata": {},
     "execution_count": 73
    }
   ],
   "source": [
    "soup = BeautifulSoup(driver.page_source, 'html.parser')\n",
    "review_containers = list(soup.find_all(class_ = \"review__container\"))\n",
    "len(review_containers)"
   ]
  },
  {
   "cell_type": "code",
   "execution_count": 116,
   "metadata": {},
   "outputs": [
    {
     "output_type": "execute_result",
     "data": {
      "text/plain": "                                                 Text Stars Helpful_Count  \\\n0   Okay, made a uber eats account.... tried to or...     1           (2)   \n1   Here's what i sent them to a contact email sin...     1           (0)   \n2   I was going in to work in the rain my normal f...     1           (0)   \n3   Uber through venmo Sucks!!! \\nEach time I pay ...     1           (0)   \n4   Stone cold fast food is on a parr with eating ...     1           (0)   \n..                                                ...   ...           ...   \n5   \\n\\t\\t\\t\\t\\t\\t\\t\\tGet $50 in ride credits from...     1           (8)   \n6   \\n\\t\\t\\t\\t\\t\\t\\t\\tUber Blocked My Account with...     1          (14)   \n7   \\n\\t\\t\\t\\t\\t\\t\\t\\tUBER IS THEE MOST RAGGEDLY O...     1           (3)   \n8   \\n\\t\\t\\t\\t\\t\\t\\t\\tDanielle \\nSep 20, 20:47 PDT...     1           (3)   \n9   \\n\\t\\t\\t\\t\\t\\t\\t\\tIt's been 2 years that we ar...     1           (2)   \n\n                                       Date  \n0   \\n\\t\\t\\t\\t\\tFebruary 25th, 2020\\t\\t\\t\\t  \n1       \\n\\t\\t\\t\\t\\tApril 6th, 2020\\t\\t\\t\\t  \n2      \\n\\t\\t\\t\\t\\tMarch 16th, 2020\\t\\t\\t\\t  \n3      \\n\\t\\t\\t\\t\\tApril 30th, 2020\\t\\t\\t\\t  \n4    \\n\\t\\t\\t\\t\\tJanuary 26th, 2020\\t\\t\\t\\t  \n..                                      ...  \n5   \\n\\t\\t\\t\\t\\tNovember 14th, 2015\\t\\t\\t\\t  \n6    \\n\\t\\t\\t\\t\\tFebruary 2nd, 2015\\t\\t\\t\\t  \n7      \\n\\t\\t\\t\\t\\tApril 24th, 2016\\t\\t\\t\\t  \n8   \\n\\t\\t\\t\\t\\tDecember 14th, 2016\\t\\t\\t\\t  \n9      \\n\\t\\t\\t\\t\\tApril 21st, 2016\\t\\t\\t\\t  \n\n[810 rows x 4 columns]",
      "text/html": "<div>\n<style scoped>\n    .dataframe tbody tr th:only-of-type {\n        vertical-align: middle;\n    }\n\n    .dataframe tbody tr th {\n        vertical-align: top;\n    }\n\n    .dataframe thead th {\n        text-align: right;\n    }\n</style>\n<table border=\"1\" class=\"dataframe\">\n  <thead>\n    <tr style=\"text-align: right;\">\n      <th></th>\n      <th>Text</th>\n      <th>Stars</th>\n      <th>Helpful_Count</th>\n      <th>Date</th>\n    </tr>\n  </thead>\n  <tbody>\n    <tr>\n      <th>0</th>\n      <td>Okay, made a uber eats account.... tried to or...</td>\n      <td>1</td>\n      <td>(2)</td>\n      <td>\\n\\t\\t\\t\\t\\tFebruary 25th, 2020\\t\\t\\t\\t</td>\n    </tr>\n    <tr>\n      <th>1</th>\n      <td>Here's what i sent them to a contact email sin...</td>\n      <td>1</td>\n      <td>(0)</td>\n      <td>\\n\\t\\t\\t\\t\\tApril 6th, 2020\\t\\t\\t\\t</td>\n    </tr>\n    <tr>\n      <th>2</th>\n      <td>I was going in to work in the rain my normal f...</td>\n      <td>1</td>\n      <td>(0)</td>\n      <td>\\n\\t\\t\\t\\t\\tMarch 16th, 2020\\t\\t\\t\\t</td>\n    </tr>\n    <tr>\n      <th>3</th>\n      <td>Uber through venmo Sucks!!! \\nEach time I pay ...</td>\n      <td>1</td>\n      <td>(0)</td>\n      <td>\\n\\t\\t\\t\\t\\tApril 30th, 2020\\t\\t\\t\\t</td>\n    </tr>\n    <tr>\n      <th>4</th>\n      <td>Stone cold fast food is on a parr with eating ...</td>\n      <td>1</td>\n      <td>(0)</td>\n      <td>\\n\\t\\t\\t\\t\\tJanuary 26th, 2020\\t\\t\\t\\t</td>\n    </tr>\n    <tr>\n      <th>...</th>\n      <td>...</td>\n      <td>...</td>\n      <td>...</td>\n      <td>...</td>\n    </tr>\n    <tr>\n      <th>5</th>\n      <td>\\n\\t\\t\\t\\t\\t\\t\\t\\tGet $50 in ride credits from...</td>\n      <td>1</td>\n      <td>(8)</td>\n      <td>\\n\\t\\t\\t\\t\\tNovember 14th, 2015\\t\\t\\t\\t</td>\n    </tr>\n    <tr>\n      <th>6</th>\n      <td>\\n\\t\\t\\t\\t\\t\\t\\t\\tUber Blocked My Account with...</td>\n      <td>1</td>\n      <td>(14)</td>\n      <td>\\n\\t\\t\\t\\t\\tFebruary 2nd, 2015\\t\\t\\t\\t</td>\n    </tr>\n    <tr>\n      <th>7</th>\n      <td>\\n\\t\\t\\t\\t\\t\\t\\t\\tUBER IS THEE MOST RAGGEDLY O...</td>\n      <td>1</td>\n      <td>(3)</td>\n      <td>\\n\\t\\t\\t\\t\\tApril 24th, 2016\\t\\t\\t\\t</td>\n    </tr>\n    <tr>\n      <th>8</th>\n      <td>\\n\\t\\t\\t\\t\\t\\t\\t\\tDanielle \\nSep 20, 20:47 PDT...</td>\n      <td>1</td>\n      <td>(3)</td>\n      <td>\\n\\t\\t\\t\\t\\tDecember 14th, 2016\\t\\t\\t\\t</td>\n    </tr>\n    <tr>\n      <th>9</th>\n      <td>\\n\\t\\t\\t\\t\\t\\t\\t\\tIt's been 2 years that we ar...</td>\n      <td>1</td>\n      <td>(2)</td>\n      <td>\\n\\t\\t\\t\\t\\tApril 21st, 2016\\t\\t\\t\\t</td>\n    </tr>\n  </tbody>\n</table>\n<p>810 rows × 4 columns</p>\n</div>"
     },
     "metadata": {},
     "execution_count": 116
    }
   ],
   "source": [
    "soup = BeautifulSoup(driver.page_source, 'html.parser')\n",
    "review_containers = list(soup.find_all(class_ = \"review__container\"))\n",
    "\n",
    "review_text = []\n",
    "review_stars = []\n",
    "review_helpful_count = []\n",
    "review_date = []\n",
    "\n",
    "df_temp = pd.DataFrame(columns=[\"Text\", \"Stars\", \"Helpful_Count\", \"Date\"])\n",
    "\n",
    "for i in range(len(review_containers)):\n",
    "\n",
    "    review_content = review_containers[i]\n",
    "\n",
    "    review_text.append(review_content.find(class_= \"review__text\").get_text())\n",
    "    review_stars.append(review_content.find(class_='stars').__getitem__(\"title\")[0])\n",
    "    review_helpful_count.append(review_content.find(class_='helpful__count').get_text())\n",
    "    review_date.append(review_content.find(class_= \"review__date\").get_text())\n",
    "\n",
    "df_temp[\"Text\"] = review_text\n",
    "df_temp[\"Stars\"] = review_stars\n",
    "df_temp[\"Helpful_Count\"] = review_helpful_count\n",
    "df_temp[\"Date\"] = review_date\n",
    "\n",
    "df = df.append(df_temp)\n",
    "df"
   ]
  },
  {
   "cell_type": "code",
   "execution_count": 119,
   "metadata": {},
   "outputs": [],
   "source": [
    "df.to_excel(\"SiteJabber.xlsx\")"
   ]
  },
  {
   "cell_type": "markdown",
   "metadata": {},
   "source": [
    "Cosumer Affairs"
   ]
  },
  {
   "cell_type": "code",
   "execution_count": 279,
   "metadata": {},
   "outputs": [],
   "source": [
    "#launch url\n",
    "url_base = \"https://www.consumeraffairs.com/travel/uber.html\"\n",
    "\n",
    "\n",
    "review_text = []\n",
    "review_stars = []\n",
    "review_helpful_count = []\n",
    "review_date = []\n",
    "\n",
    "\n",
    "for page in range(1,63):\n",
    "    url_appendix = \"?container=\" + str(page) + \"#sort=top_reviews&filter=none\"\n",
    "    page = requests.get(url_base + url_appendix)\n",
    "\n",
    "    soup = BeautifulSoup(page.content, 'html.parser')\n",
    "    review_containers = list(soup.find_all(class_ = \"rvw js-rvw\"))\n",
    "\n",
    "    for container in range(len(review_containers)):\n",
    "        review_container = review_containers[container]\n",
    "\n",
    "        review_date.append(review_container.find(class_ =\"ca-txt-cpt\").get_text())\n",
    "        review_stars.append(list(review_container)[0].img[\"data-rating\"])\n",
    "\n",
    "        a = review_container.find(class_ =\"rvw-bd\")\n",
    "        review_text.append(a.find_all(\"p\")[1].get_text()  +  a.find_all(\"p\")[-1].get_text())\n",
    "\n",
    "        b = review_container.find(class_ =\"rvw-foot__helpful-count js-helpful-count\")\n",
    "        review_helpful_count.append(b.get_text())\n",
    "\n"
   ]
  },
  {
   "cell_type": "code",
   "execution_count": 288,
   "metadata": {},
   "outputs": [],
   "source": [
    "df_temp = pd.DataFrame(columns=[\"Text\", \"Stars\", \"Helpful_Count\", \"Date\"])\n",
    "df_temp[\"Text\"] = review_text\n",
    "df_temp[\"Stars\"] = review_stars\n",
    "df_temp[\"Helpful_Count\"] = review_helpful_count\n",
    "df_temp[\"Date\"] = review_date\n",
    "\n",
    "df_consumer_affairs = pd.DataFrame(columns=[\"Text\", \"Stars\", \"Helpful_Count\", \"Date\"])\n",
    "\n",
    "df_consumer_affairs = df_consumer_affairs.append(df_temp)"
   ]
  },
  {
   "cell_type": "code",
   "execution_count": 290,
   "metadata": {},
   "outputs": [
    {
     "output_type": "execute_result",
     "data": {
      "text/plain": "                                                     Text Stars  \\\ncount                                                 620   620   \nunique                                                 10     3   \ntop     I’m not huge on ride share or using anything t...   1.0   \nfreq                                                   62   310   \n\n                                            Helpful_Count  \\\ncount                                                 620   \nunique                                                  4   \ntop     \\n            \\n                \\n            ...   \nfreq                                                  434   \n\n                                 Date  \ncount                             620  \nunique                              9  \ntop     Original review: Nov. 8, 2019  \nfreq                              124  ",
      "text/html": "<div>\n<style scoped>\n    .dataframe tbody tr th:only-of-type {\n        vertical-align: middle;\n    }\n\n    .dataframe tbody tr th {\n        vertical-align: top;\n    }\n\n    .dataframe thead th {\n        text-align: right;\n    }\n</style>\n<table border=\"1\" class=\"dataframe\">\n  <thead>\n    <tr style=\"text-align: right;\">\n      <th></th>\n      <th>Text</th>\n      <th>Stars</th>\n      <th>Helpful_Count</th>\n      <th>Date</th>\n    </tr>\n  </thead>\n  <tbody>\n    <tr>\n      <th>count</th>\n      <td>620</td>\n      <td>620</td>\n      <td>620</td>\n      <td>620</td>\n    </tr>\n    <tr>\n      <th>unique</th>\n      <td>10</td>\n      <td>3</td>\n      <td>4</td>\n      <td>9</td>\n    </tr>\n    <tr>\n      <th>top</th>\n      <td>I’m not huge on ride share or using anything t...</td>\n      <td>1.0</td>\n      <td>\\n            \\n                \\n            ...</td>\n      <td>Original review: Nov. 8, 2019</td>\n    </tr>\n    <tr>\n      <th>freq</th>\n      <td>62</td>\n      <td>310</td>\n      <td>434</td>\n      <td>124</td>\n    </tr>\n  </tbody>\n</table>\n</div>"
     },
     "metadata": {},
     "execution_count": 290
    }
   ],
   "source": [
    "df_consumer_affairs.describe()"
   ]
  },
  {
   "cell_type": "code",
   "execution_count": 124,
   "metadata": {},
   "outputs": [],
   "source": [
    "df_consumer_affairs = pd.DataFrame(columns=[\"Text\", \"Stars\", \"Helpful_Count\", \"Date\"])"
   ]
  },
  {
   "cell_type": "code",
   "execution_count": 291,
   "metadata": {},
   "outputs": [],
   "source": [
    "df_consumer_affairs.to_excel(\"ConsumerAffairs.xlsx\")"
   ]
  },
  {
   "cell_type": "code",
   "execution_count": 253,
   "metadata": {},
   "outputs": [],
   "source": [
    "#launch url\n",
    "url = \"https://www.consumeraffairs.com/travel/uber.html\"\n",
    "\n",
    "# create a new Chrome session\n",
    "driver = webdriver.Chrome()\n",
    "driver.implicitly_wait(30)\n",
    "driver.get(url)"
   ]
  },
  {
   "cell_type": "code",
   "execution_count": 254,
   "metadata": {},
   "outputs": [],
   "source": [
    "soup = BeautifulSoup(driver.page_source, 'html.parser')\n",
    "review_containers = list(soup.find_all(class_ = \"rvw js-rvw\"))"
   ]
  },
  {
   "cell_type": "code",
   "execution_count": 255,
   "metadata": {},
   "outputs": [
    {
     "output_type": "execute_result",
     "data": {
      "text/plain": "'Original review: May 29, 2020'"
     },
     "metadata": {},
     "execution_count": 255
    }
   ],
   "source": [
    "review_date = review_containers[0].find(class_ =\"ca-txt-cpt\").get_text()\n",
    "review_date"
   ]
  },
  {
   "cell_type": "code",
   "execution_count": 256,
   "metadata": {},
   "outputs": [
    {
     "output_type": "execute_result",
     "data": {
      "text/plain": "'1.0'"
     },
     "metadata": {},
     "execution_count": 256
    }
   ],
   "source": [
    "review_stars = list(review_containers[0])[0].img[\"data-rating\"]\n",
    "review_stars"
   ]
  },
  {
   "cell_type": "code",
   "execution_count": 259,
   "metadata": {},
   "outputs": [
    {
     "output_type": "execute_result",
     "data": {
      "text/plain": "'Uber delayed response to keep their drivers & customers safe is ridiculous! May 18th is the date that uber has made mandatory for both driver and customers. What were Uber thinking and what were they waiting for months have pass and people are dying every day! No excuse for their lack of responsibilities..'"
     },
     "metadata": {},
     "execution_count": 259
    }
   ],
   "source": [
    "a = review_containers[1].find(class_ =\"rvw-bd\")\n",
    "review_text = a.find_all(\"p\")[1].get_text()  +  a.find_all(\"p\")[-1].get_text()\n",
    "review_text"
   ]
  },
  {
   "cell_type": "code",
   "execution_count": 251,
   "metadata": {},
   "outputs": [
    {
     "output_type": "execute_result",
     "data": {
      "text/plain": "'6 people found this review helpful\\n            \\n        '"
     },
     "metadata": {},
     "execution_count": 251
    }
   ],
   "source": [
    "b = review_containers[0].find(class_ =\"rvw-foot__helpful-count js-helpful-count\")\n",
    "review_helpful_count = b.get_text()\n",
    "review_helpful_count"
   ]
  },
  {
   "cell_type": "code",
   "execution_count": null,
   "metadata": {},
   "outputs": [],
   "source": [
    "soup = BeautifulSoup(driver.page_source, 'html.parser')\n",
    "review_containers = list(soup.find_all(class_ = \"review__container\"))\n",
    "\n",
    "review_text = []\n",
    "review_stars = []\n",
    "review_helpful_count = []\n",
    "review_date = []\n",
    "\n",
    "# df_temp = pd.DataFrame(columns=[\"Text\", \"Stars\", \"Helpful_Count\", \"Date\"])\n",
    "\n",
    "# for i in range(len(review_containers)):\n",
    "\n",
    "# review_content = review_containers[i]\n",
    "\n",
    "# review_text.append(review_content.find(class_= \"review__text\").get_text())\n",
    "# review_stars.append(review_content.find(class_='stars').__getitem__(\"title\")[0])\n",
    "# review_helpful_count.append(review_content.find(class_='helpful__count').get_text())\n",
    "# review_date.append(review_content.find(class_= \"review__date\").get_text())\n",
    "\n",
    "# df_temp[\"Text\"] = review_text\n",
    "# df_temp[\"Stars\"] = review_stars\n",
    "# df_temp[\"Helpful_Count\"] = review_helpful_count\n",
    "# df_temp[\"Date\"] = review_date\n",
    "\n",
    "# df = df.append(df_temp)\n",
    "# df"
   ]
  },
  {
   "cell_type": "code",
   "execution_count": null,
   "metadata": {},
   "outputs": [],
   "source": []
  }
 ],
 "metadata": {
  "language_info": {
   "name": "python",
   "codemirror_mode": {
    "name": "ipython",
    "version": 3
   },
   "version": "3.7.6-final"
  },
  "orig_nbformat": 2,
  "file_extension": ".py",
  "mimetype": "text/x-python",
  "name": "python",
  "npconvert_exporter": "python",
  "pygments_lexer": "ipython3",
  "version": 3,
  "kernelspec": {
   "name": "python37164bit10virtualenvcae4b91a0a4b4b17865e448f6050f74c",
   "display_name": "Python 3.7.1 64-bit ('10': virtualenv)"
  }
 },
 "nbformat": 4,
 "nbformat_minor": 2
}