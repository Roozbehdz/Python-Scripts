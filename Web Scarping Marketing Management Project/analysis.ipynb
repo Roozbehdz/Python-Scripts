{
 "cells": [
  {
   "cell_type": "code",
   "execution_count": 2,
   "metadata": {},
   "outputs": [],
   "source": [
    "import numpy as np\n",
    "import pandas as pd\n",
    "import matplotlib.pyplot as plt\n",
    "import random"
   ]
  },
  {
   "cell_type": "code",
   "execution_count": 3,
   "metadata": {},
   "outputs": [
    {
     "output_type": "execute_result",
     "data": {
      "text/plain": "                                                   Text  Stars  Helpful_Count  \\\n0     I had charges for an UBER trip on my credit ca...      1              0   \n1     I live in The Bronx, The epicenter of Covid19....      1              2   \n2     Uber delayed response to keep their drivers & ...      1              0   \n3     I would give zero stars if I could. My friend ...      1              0   \n4     I would give zero stars if I could. My friend ...      1              0   \n...                                                 ...    ...            ...   \n2586  everyone knows uber  is fast but when you had ...      2              2   \n2587  For a service that asks for your credit card n...      1             18   \n2588  great service, but hiring drivers who do not k...      2              9   \n2589  Uber has several problems that make it a poor ...      1             15   \n2590  Uber is kind of like magic. You punch a few bu...      5              5   \n\n           Date  \n0    2020-06-03  \n1    2020-05-29  \n2    2020-05-13  \n3    2020-05-11  \n4    2020-05-11  \n...         ...  \n2586 2014-01-10  \n2587 2013-12-18  \n2588 2013-12-18  \n2589 2013-05-13  \n2590 2013-05-08  \n\n[2591 rows x 4 columns]",
      "text/html": "<div>\n<style scoped>\n    .dataframe tbody tr th:only-of-type {\n        vertical-align: middle;\n    }\n\n    .dataframe tbody tr th {\n        vertical-align: top;\n    }\n\n    .dataframe thead th {\n        text-align: right;\n    }\n</style>\n<table border=\"1\" class=\"dataframe\">\n  <thead>\n    <tr style=\"text-align: right;\">\n      <th></th>\n      <th>Text</th>\n      <th>Stars</th>\n      <th>Helpful_Count</th>\n      <th>Date</th>\n    </tr>\n  </thead>\n  <tbody>\n    <tr>\n      <th>0</th>\n      <td>I had charges for an UBER trip on my credit ca...</td>\n      <td>1</td>\n      <td>0</td>\n      <td>2020-06-03</td>\n    </tr>\n    <tr>\n      <th>1</th>\n      <td>I live in The Bronx, The epicenter of Covid19....</td>\n      <td>1</td>\n      <td>2</td>\n      <td>2020-05-29</td>\n    </tr>\n    <tr>\n      <th>2</th>\n      <td>Uber delayed response to keep their drivers &amp; ...</td>\n      <td>1</td>\n      <td>0</td>\n      <td>2020-05-13</td>\n    </tr>\n    <tr>\n      <th>3</th>\n      <td>I would give zero stars if I could. My friend ...</td>\n      <td>1</td>\n      <td>0</td>\n      <td>2020-05-11</td>\n    </tr>\n    <tr>\n      <th>4</th>\n      <td>I would give zero stars if I could. My friend ...</td>\n      <td>1</td>\n      <td>0</td>\n      <td>2020-05-11</td>\n    </tr>\n    <tr>\n      <th>...</th>\n      <td>...</td>\n      <td>...</td>\n      <td>...</td>\n      <td>...</td>\n    </tr>\n    <tr>\n      <th>2586</th>\n      <td>everyone knows uber  is fast but when you had ...</td>\n      <td>2</td>\n      <td>2</td>\n      <td>2014-01-10</td>\n    </tr>\n    <tr>\n      <th>2587</th>\n      <td>For a service that asks for your credit card n...</td>\n      <td>1</td>\n      <td>18</td>\n      <td>2013-12-18</td>\n    </tr>\n    <tr>\n      <th>2588</th>\n      <td>great service, but hiring drivers who do not k...</td>\n      <td>2</td>\n      <td>9</td>\n      <td>2013-12-18</td>\n    </tr>\n    <tr>\n      <th>2589</th>\n      <td>Uber has several problems that make it a poor ...</td>\n      <td>1</td>\n      <td>15</td>\n      <td>2013-05-13</td>\n    </tr>\n    <tr>\n      <th>2590</th>\n      <td>Uber is kind of like magic. You punch a few bu...</td>\n      <td>5</td>\n      <td>5</td>\n      <td>2013-05-08</td>\n    </tr>\n  </tbody>\n</table>\n<p>2591 rows × 4 columns</p>\n</div>"
     },
     "metadata": {},
     "execution_count": 3
    }
   ],
   "source": [
    "# read data \n",
    "df = pd.read_excel(\"Uber Reviews Dataset.xlsx\")\n",
    "df"
   ]
  },
  {
   "cell_type": "code",
   "execution_count": 24,
   "metadata": {},
   "outputs": [
    {
     "output_type": "execute_result",
     "data": {
      "text/plain": "                                                   Text  Stars  Helpful_Count  \\\n0     I had charges for an UBER trip on my credit ca...      1              0   \n1     I live in The Bronx, The epicenter of Covid19....      1              2   \n2     Uber delayed response to keep their drivers & ...      1              0   \n3     I would give zero stars if I could. My friend ...      1              0   \n4     I would give zero stars if I could. My friend ...      1              0   \n...                                                 ...    ...            ...   \n2586  everyone knows uber  is fast but when you had ...      2              2   \n2587  For a service that asks for your credit card n...      1             18   \n2588  great service, but hiring drivers who do not k...      2              9   \n2589  Uber has several problems that make it a poor ...      1             15   \n2590  Uber is kind of like magic. You punch a few bu...      5              5   \n\n           Date  binary_class  negative_sentiment  positive_sentiment  \\\n0    2020-06-03             0               0.111               0.101   \n1    2020-05-29             0               0.064               0.095   \n2    2020-05-13             0               0.163               0.096   \n3    2020-05-11             0               0.059               0.171   \n4    2020-05-11             0               0.069               0.168   \n...         ...           ...                 ...                 ...   \n2586 2014-01-10             0               0.033               0.132   \n2587 2013-12-18             0               0.119               0.199   \n2588 2013-12-18             0               0.000               0.066   \n2589 2013-05-13             0               0.093               0.086   \n2590 2013-05-08             1               0.028               0.139   \n\n      neutral_sentiment  compound_sentiment  \n0                 0.787             -0.5985  \n1                 0.841              0.5832  \n2                 0.741             -0.8413  \n3                 0.770              0.9382  \n4                 0.763              0.9796  \n...                 ...                 ...  \n2586              0.836              0.7461  \n2587              0.681              0.7532  \n2588              0.934              0.3716  \n2589              0.820              0.3827  \n2590              0.834              0.8392  \n\n[2591 rows x 9 columns]",
      "text/html": "<div>\n<style scoped>\n    .dataframe tbody tr th:only-of-type {\n        vertical-align: middle;\n    }\n\n    .dataframe tbody tr th {\n        vertical-align: top;\n    }\n\n    .dataframe thead th {\n        text-align: right;\n    }\n</style>\n<table border=\"1\" class=\"dataframe\">\n  <thead>\n    <tr style=\"text-align: right;\">\n      <th></th>\n      <th>Text</th>\n      <th>Stars</th>\n      <th>Helpful_Count</th>\n      <th>Date</th>\n      <th>binary_class</th>\n      <th>negative_sentiment</th>\n      <th>positive_sentiment</th>\n      <th>neutral_sentiment</th>\n      <th>compound_sentiment</th>\n    </tr>\n  </thead>\n  <tbody>\n    <tr>\n      <th>0</th>\n      <td>I had charges for an UBER trip on my credit ca...</td>\n      <td>1</td>\n      <td>0</td>\n      <td>2020-06-03</td>\n      <td>0</td>\n      <td>0.111</td>\n      <td>0.101</td>\n      <td>0.787</td>\n      <td>-0.5985</td>\n    </tr>\n    <tr>\n      <th>1</th>\n      <td>I live in The Bronx, The epicenter of Covid19....</td>\n      <td>1</td>\n      <td>2</td>\n      <td>2020-05-29</td>\n      <td>0</td>\n      <td>0.064</td>\n      <td>0.095</td>\n      <td>0.841</td>\n      <td>0.5832</td>\n    </tr>\n    <tr>\n      <th>2</th>\n      <td>Uber delayed response to keep their drivers &amp; ...</td>\n      <td>1</td>\n      <td>0</td>\n      <td>2020-05-13</td>\n      <td>0</td>\n      <td>0.163</td>\n      <td>0.096</td>\n      <td>0.741</td>\n      <td>-0.8413</td>\n    </tr>\n    <tr>\n      <th>3</th>\n      <td>I would give zero stars if I could. My friend ...</td>\n      <td>1</td>\n      <td>0</td>\n      <td>2020-05-11</td>\n      <td>0</td>\n      <td>0.059</td>\n      <td>0.171</td>\n      <td>0.770</td>\n      <td>0.9382</td>\n    </tr>\n    <tr>\n      <th>4</th>\n      <td>I would give zero stars if I could. My friend ...</td>\n      <td>1</td>\n      <td>0</td>\n      <td>2020-05-11</td>\n      <td>0</td>\n      <td>0.069</td>\n      <td>0.168</td>\n      <td>0.763</td>\n      <td>0.9796</td>\n    </tr>\n    <tr>\n      <th>...</th>\n      <td>...</td>\n      <td>...</td>\n      <td>...</td>\n      <td>...</td>\n      <td>...</td>\n      <td>...</td>\n      <td>...</td>\n      <td>...</td>\n      <td>...</td>\n    </tr>\n    <tr>\n      <th>2586</th>\n      <td>everyone knows uber  is fast but when you had ...</td>\n      <td>2</td>\n      <td>2</td>\n      <td>2014-01-10</td>\n      <td>0</td>\n      <td>0.033</td>\n      <td>0.132</td>\n      <td>0.836</td>\n      <td>0.7461</td>\n    </tr>\n    <tr>\n      <th>2587</th>\n      <td>For a service that asks for your credit card n...</td>\n      <td>1</td>\n      <td>18</td>\n      <td>2013-12-18</td>\n      <td>0</td>\n      <td>0.119</td>\n      <td>0.199</td>\n      <td>0.681</td>\n      <td>0.7532</td>\n    </tr>\n    <tr>\n      <th>2588</th>\n      <td>great service, but hiring drivers who do not k...</td>\n      <td>2</td>\n      <td>9</td>\n      <td>2013-12-18</td>\n      <td>0</td>\n      <td>0.000</td>\n      <td>0.066</td>\n      <td>0.934</td>\n      <td>0.3716</td>\n    </tr>\n    <tr>\n      <th>2589</th>\n      <td>Uber has several problems that make it a poor ...</td>\n      <td>1</td>\n      <td>15</td>\n      <td>2013-05-13</td>\n      <td>0</td>\n      <td>0.093</td>\n      <td>0.086</td>\n      <td>0.820</td>\n      <td>0.3827</td>\n    </tr>\n    <tr>\n      <th>2590</th>\n      <td>Uber is kind of like magic. You punch a few bu...</td>\n      <td>5</td>\n      <td>5</td>\n      <td>2013-05-08</td>\n      <td>1</td>\n      <td>0.028</td>\n      <td>0.139</td>\n      <td>0.834</td>\n      <td>0.8392</td>\n    </tr>\n  </tbody>\n</table>\n<p>2591 rows × 9 columns</p>\n</div>"
     },
     "metadata": {},
     "execution_count": 24
    }
   ],
   "source": [
    "#creating new binary_class column\n",
    "df['binary_class'] = np.where(df['Stars'] > 2, 1, 0)\n",
    "df"
   ]
  },
  {
   "cell_type": "code",
   "execution_count": 25,
   "metadata": {},
   "outputs": [],
   "source": [
    "from sentiment_analyst import VaderAnalyzer\n",
    "df = VaderAnalyzer(df)"
   ]
  },
  {
   "cell_type": "code",
   "execution_count": 26,
   "metadata": {},
   "outputs": [
    {
     "output_type": "execute_result",
     "data": {
      "text/plain": "                                                   Text  Stars  Helpful_Count  \\\n0     I had charges for an UBER trip on my credit ca...      1              0   \n1     I live in The Bronx, The epicenter of Covid19....      1              2   \n2     Uber delayed response to keep their drivers & ...      1              0   \n3     I would give zero stars if I could. My friend ...      1              0   \n4     I would give zero stars if I could. My friend ...      1              0   \n...                                                 ...    ...            ...   \n2586  everyone knows uber  is fast but when you had ...      2              2   \n2587  For a service that asks for your credit card n...      1             18   \n2588  great service, but hiring drivers who do not k...      2              9   \n2589  Uber has several problems that make it a poor ...      1             15   \n2590  Uber is kind of like magic. You punch a few bu...      5              5   \n\n           Date  binary_class  negative_sentiment  positive_sentiment  \\\n0    2020-06-03             0               0.111               0.101   \n1    2020-05-29             0               0.064               0.095   \n2    2020-05-13             0               0.163               0.096   \n3    2020-05-11             0               0.059               0.171   \n4    2020-05-11             0               0.069               0.168   \n...         ...           ...                 ...                 ...   \n2586 2014-01-10             0               0.033               0.132   \n2587 2013-12-18             0               0.119               0.199   \n2588 2013-12-18             0               0.000               0.066   \n2589 2013-05-13             0               0.093               0.086   \n2590 2013-05-08             1               0.028               0.139   \n\n      neutral_sentiment  compound_sentiment  \n0                 0.787             -0.5985  \n1                 0.841              0.5832  \n2                 0.741             -0.8413  \n3                 0.770              0.9382  \n4                 0.763              0.9796  \n...                 ...                 ...  \n2586              0.836              0.7461  \n2587              0.681              0.7532  \n2588              0.934              0.3716  \n2589              0.820              0.3827  \n2590              0.834              0.8392  \n\n[2591 rows x 9 columns]",
      "text/html": "<div>\n<style scoped>\n    .dataframe tbody tr th:only-of-type {\n        vertical-align: middle;\n    }\n\n    .dataframe tbody tr th {\n        vertical-align: top;\n    }\n\n    .dataframe thead th {\n        text-align: right;\n    }\n</style>\n<table border=\"1\" class=\"dataframe\">\n  <thead>\n    <tr style=\"text-align: right;\">\n      <th></th>\n      <th>Text</th>\n      <th>Stars</th>\n      <th>Helpful_Count</th>\n      <th>Date</th>\n      <th>binary_class</th>\n      <th>negative_sentiment</th>\n      <th>positive_sentiment</th>\n      <th>neutral_sentiment</th>\n      <th>compound_sentiment</th>\n    </tr>\n  </thead>\n  <tbody>\n    <tr>\n      <th>0</th>\n      <td>I had charges for an UBER trip on my credit ca...</td>\n      <td>1</td>\n      <td>0</td>\n      <td>2020-06-03</td>\n      <td>0</td>\n      <td>0.111</td>\n      <td>0.101</td>\n      <td>0.787</td>\n      <td>-0.5985</td>\n    </tr>\n    <tr>\n      <th>1</th>\n      <td>I live in The Bronx, The epicenter of Covid19....</td>\n      <td>1</td>\n      <td>2</td>\n      <td>2020-05-29</td>\n      <td>0</td>\n      <td>0.064</td>\n      <td>0.095</td>\n      <td>0.841</td>\n      <td>0.5832</td>\n    </tr>\n    <tr>\n      <th>2</th>\n      <td>Uber delayed response to keep their drivers &amp; ...</td>\n      <td>1</td>\n      <td>0</td>\n      <td>2020-05-13</td>\n      <td>0</td>\n      <td>0.163</td>\n      <td>0.096</td>\n      <td>0.741</td>\n      <td>-0.8413</td>\n    </tr>\n    <tr>\n      <th>3</th>\n      <td>I would give zero stars if I could. My friend ...</td>\n      <td>1</td>\n      <td>0</td>\n      <td>2020-05-11</td>\n      <td>0</td>\n      <td>0.059</td>\n      <td>0.171</td>\n      <td>0.770</td>\n      <td>0.9382</td>\n    </tr>\n    <tr>\n      <th>4</th>\n      <td>I would give zero stars if I could. My friend ...</td>\n      <td>1</td>\n      <td>0</td>\n      <td>2020-05-11</td>\n      <td>0</td>\n      <td>0.069</td>\n      <td>0.168</td>\n      <td>0.763</td>\n      <td>0.9796</td>\n    </tr>\n    <tr>\n      <th>...</th>\n      <td>...</td>\n      <td>...</td>\n      <td>...</td>\n      <td>...</td>\n      <td>...</td>\n      <td>...</td>\n      <td>...</td>\n      <td>...</td>\n      <td>...</td>\n    </tr>\n    <tr>\n      <th>2586</th>\n      <td>everyone knows uber  is fast but when you had ...</td>\n      <td>2</td>\n      <td>2</td>\n      <td>2014-01-10</td>\n      <td>0</td>\n      <td>0.033</td>\n      <td>0.132</td>\n      <td>0.836</td>\n      <td>0.7461</td>\n    </tr>\n    <tr>\n      <th>2587</th>\n      <td>For a service that asks for your credit card n...</td>\n      <td>1</td>\n      <td>18</td>\n      <td>2013-12-18</td>\n      <td>0</td>\n      <td>0.119</td>\n      <td>0.199</td>\n      <td>0.681</td>\n      <td>0.7532</td>\n    </tr>\n    <tr>\n      <th>2588</th>\n      <td>great service, but hiring drivers who do not k...</td>\n      <td>2</td>\n      <td>9</td>\n      <td>2013-12-18</td>\n      <td>0</td>\n      <td>0.000</td>\n      <td>0.066</td>\n      <td>0.934</td>\n      <td>0.3716</td>\n    </tr>\n    <tr>\n      <th>2589</th>\n      <td>Uber has several problems that make it a poor ...</td>\n      <td>1</td>\n      <td>15</td>\n      <td>2013-05-13</td>\n      <td>0</td>\n      <td>0.093</td>\n      <td>0.086</td>\n      <td>0.820</td>\n      <td>0.3827</td>\n    </tr>\n    <tr>\n      <th>2590</th>\n      <td>Uber is kind of like magic. You punch a few bu...</td>\n      <td>5</td>\n      <td>5</td>\n      <td>2013-05-08</td>\n      <td>1</td>\n      <td>0.028</td>\n      <td>0.139</td>\n      <td>0.834</td>\n      <td>0.8392</td>\n    </tr>\n  </tbody>\n</table>\n<p>2591 rows × 9 columns</p>\n</div>"
     },
     "metadata": {},
     "execution_count": 26
    }
   ],
   "source": [
    "df"
   ]
  },
  {
   "cell_type": "code",
   "execution_count": 33,
   "metadata": {},
   "outputs": [
    {
     "output_type": "execute_result",
     "data": {
      "text/plain": "Stars\n1    2423\n2      49\n3      33\n4      26\n5      60\nName: Text, dtype: int64"
     },
     "metadata": {},
     "execution_count": 33
    }
   ],
   "source": [
    "groups = df.groupby('Stars').count()\n",
    "groups.Text\n"
   ]
  },
  {
   "cell_type": "code",
   "execution_count": 27,
   "metadata": {},
   "outputs": [],
   "source": [
    "#splitting into train and test\n",
    "from sklearn.model_selection import train_test_split\n",
    "X_train, X_test, y_train, y_test = train_test_split(df[['negative_sentiment','neutral_sentiment',\n",
    "                                                        'positive_sentiment','compound_sentiment']], df['binary_class'],                                                                   random_state = 10)\n"
   ]
  },
  {
   "cell_type": "code",
   "execution_count": 47,
   "metadata": {},
   "outputs": [
    {
     "output_type": "execute_result",
     "data": {
      "text/plain": "(1943, 4)"
     },
     "metadata": {},
     "execution_count": 47
    }
   ],
   "source": [
    "X_train.shape"
   ]
  },
  {
   "cell_type": "code",
   "execution_count": 29,
   "metadata": {},
   "outputs": [
    {
     "output_type": "execute_result",
     "data": {
      "text/plain": "LogisticRegression(C=1.0, class_weight=None, dual=False, fit_intercept=True,\n                   intercept_scaling=1, l1_ratio=None, max_iter=100,\n                   multi_class='auto', n_jobs=None, penalty='l2',\n                   random_state=None, solver='lbfgs', tol=0.0001, verbose=0,\n                   warm_start=False)"
     },
     "metadata": {},
     "execution_count": 29
    }
   ],
   "source": [
    "#creating log regression\n",
    "from sklearn.linear_model import LogisticRegression\n",
    "model = LogisticRegression()\n",
    "model.fit(X_train, y_train)"
   ]
  },
  {
   "cell_type": "code",
   "execution_count": 32,
   "metadata": {},
   "outputs": [
    {
     "output_type": "execute_result",
     "data": {
      "text/plain": "0.9552469135802469"
     },
     "metadata": {},
     "execution_count": 32
    }
   ],
   "source": [
    "#calculating Accuracy\n",
    "from sklearn.metrics import accuracy_score\n",
    "predictions = model.predict(X_test)\n",
    "accuracy_score(y_test, predictions)"
   ]
  },
  {
   "cell_type": "code",
   "execution_count": 42,
   "metadata": {},
   "outputs": [],
   "source": [
    "# Hyper-parameters\n",
    "epochs = 10             # Total number of training epochs\n",
    "batch_size = 100        # Training batch size\n",
    "learning_rate = 0.001   # The optimization initial learning rate\n",
    "h1 = 200                # number of nodes in the 1st hidden layer"
   ]
  },
  {
   "cell_type": "code",
   "execution_count": 48,
   "metadata": {},
   "outputs": [],
   "source": [
    "# weight and bais wrappers\n",
    "import tensorflow as tf\n",
    "def weight_variable(name, shape):\n",
    "    \"\"\"\n",
    "    Create a weight variable with appropriate initialization\n",
    "    :param name: weight name\n",
    "    :param shape: weight shape\n",
    "    :return: initialized weight variable\n",
    "    \"\"\"\n",
    "    initer = tf.truncated_normal_initializer(stddev=0.01)\n",
    "    return tf.get_variable('W_' + name,\n",
    "                           dtype=tf.float32,\n",
    "                           shape=shape,\n",
    "                           initializer=initer)\n",
    "\n",
    "def bias_variable(name, shape):\n",
    "    \"\"\"\n",
    "    Create a bias variable with appropriate initialization\n",
    "    :param name: bias variable name\n",
    "    :param shape: bias variable shape\n",
    "    :return: initialized bias variable\n",
    "    \"\"\"\n",
    "    initial = tf.constant(0., shape=shape, dtype=tf.float32)\n",
    "    return tf.get_variable('b_' + name,\n",
    "                           dtype=tf.float32,\n",
    "                           initializer=initial)\n",
    "def fc_layer(x, num_units, name, use_relu=True):\n",
    "    \"\"\"\n",
    "    Create a fully-connected layer\n",
    "    :param x: input from previous layer\n",
    "    :param num_units: number of hidden units in the fully-connected layer\n",
    "    :param name: layer name\n",
    "    :param use_relu: boolean to add ReLU non-linearity (or not)\n",
    "    :return: The output array\n",
    "    \"\"\"\n",
    "    in_dim = x.shape[1]\n",
    "    W = weight_variable(name, shape=[in_dim, num_units])\n",
    "    b = bias_variable(name, [num_units])\n",
    "    layer = tf.matmul(x, W)\n",
    "    layer += b\n",
    "    if use_relu:\n",
    "        layer = tf.nn.relu(layer)\n",
    "    return layer\n",
    " "
   ]
  },
  {
   "cell_type": "code",
   "execution_count": 49,
   "metadata": {},
   "outputs": [
    {
     "output_type": "error",
     "ename": "AttributeError",
     "evalue": "module 'tensorflow' has no attribute 'truncated_normal_initializer'",
     "traceback": [
      "\u001b[1;31m---------------------------------------------------------------------------\u001b[0m",
      "\u001b[1;31mAttributeError\u001b[0m                            Traceback (most recent call last)",
      "\u001b[1;32m<ipython-input-49-4b4a6d9871a9>\u001b[0m in \u001b[0;36m<module>\u001b[1;34m\u001b[0m\n\u001b[0;32m      1\u001b[0m \u001b[1;31m# Create a fully-connected layer with h1 nodes as hidden layer\u001b[0m\u001b[1;33m\u001b[0m\u001b[1;33m\u001b[0m\u001b[1;33m\u001b[0m\u001b[0m\n\u001b[1;32m----> 2\u001b[1;33m \u001b[0mfc1\u001b[0m \u001b[1;33m=\u001b[0m \u001b[0mfc_layer\u001b[0m\u001b[1;33m(\u001b[0m\u001b[0mX_train\u001b[0m\u001b[1;33m,\u001b[0m \u001b[0mh1\u001b[0m\u001b[1;33m,\u001b[0m \u001b[1;34m'FC1'\u001b[0m\u001b[1;33m,\u001b[0m \u001b[0muse_relu\u001b[0m\u001b[1;33m=\u001b[0m\u001b[1;32mTrue\u001b[0m\u001b[1;33m)\u001b[0m\u001b[1;33m\u001b[0m\u001b[1;33m\u001b[0m\u001b[0m\n\u001b[0m\u001b[0;32m      3\u001b[0m \u001b[1;31m# Create a fully-connected layer with n_classes nodes as output layer\u001b[0m\u001b[1;33m\u001b[0m\u001b[1;33m\u001b[0m\u001b[1;33m\u001b[0m\u001b[0m\n\u001b[0;32m      4\u001b[0m \u001b[0moutput_logits\u001b[0m \u001b[1;33m=\u001b[0m \u001b[0mfc_layer\u001b[0m\u001b[1;33m(\u001b[0m\u001b[0mfc1\u001b[0m\u001b[1;33m,\u001b[0m \u001b[0mn_classes\u001b[0m\u001b[1;33m,\u001b[0m \u001b[1;34m'OUT'\u001b[0m\u001b[1;33m,\u001b[0m \u001b[0muse_relu\u001b[0m\u001b[1;33m=\u001b[0m\u001b[1;32mFalse\u001b[0m\u001b[1;33m)\u001b[0m\u001b[1;33m\u001b[0m\u001b[1;33m\u001b[0m\u001b[0m\n",
      "\u001b[1;32m<ipython-input-48-e2f86e3f26a8>\u001b[0m in \u001b[0;36mfc_layer\u001b[1;34m(x, num_units, name, use_relu)\u001b[0m\n\u001b[0;32m     35\u001b[0m     \"\"\"\n\u001b[0;32m     36\u001b[0m     \u001b[0min_dim\u001b[0m \u001b[1;33m=\u001b[0m \u001b[0mx\u001b[0m\u001b[1;33m.\u001b[0m\u001b[0mshape\u001b[0m\u001b[1;33m[\u001b[0m\u001b[1;36m1\u001b[0m\u001b[1;33m]\u001b[0m\u001b[1;33m\u001b[0m\u001b[1;33m\u001b[0m\u001b[0m\n\u001b[1;32m---> 37\u001b[1;33m     \u001b[0mW\u001b[0m \u001b[1;33m=\u001b[0m \u001b[0mweight_variable\u001b[0m\u001b[1;33m(\u001b[0m\u001b[0mname\u001b[0m\u001b[1;33m,\u001b[0m \u001b[0mshape\u001b[0m\u001b[1;33m=\u001b[0m\u001b[1;33m[\u001b[0m\u001b[0min_dim\u001b[0m\u001b[1;33m,\u001b[0m \u001b[0mnum_units\u001b[0m\u001b[1;33m]\u001b[0m\u001b[1;33m)\u001b[0m\u001b[1;33m\u001b[0m\u001b[1;33m\u001b[0m\u001b[0m\n\u001b[0m\u001b[0;32m     38\u001b[0m     \u001b[0mb\u001b[0m \u001b[1;33m=\u001b[0m \u001b[0mbias_variable\u001b[0m\u001b[1;33m(\u001b[0m\u001b[0mname\u001b[0m\u001b[1;33m,\u001b[0m \u001b[1;33m[\u001b[0m\u001b[0mnum_units\u001b[0m\u001b[1;33m]\u001b[0m\u001b[1;33m)\u001b[0m\u001b[1;33m\u001b[0m\u001b[1;33m\u001b[0m\u001b[0m\n\u001b[0;32m     39\u001b[0m     \u001b[0mlayer\u001b[0m \u001b[1;33m=\u001b[0m \u001b[0mtf\u001b[0m\u001b[1;33m.\u001b[0m\u001b[0mmatmul\u001b[0m\u001b[1;33m(\u001b[0m\u001b[0mx\u001b[0m\u001b[1;33m,\u001b[0m \u001b[0mW\u001b[0m\u001b[1;33m)\u001b[0m\u001b[1;33m\u001b[0m\u001b[1;33m\u001b[0m\u001b[0m\n",
      "\u001b[1;32m<ipython-input-48-e2f86e3f26a8>\u001b[0m in \u001b[0;36mweight_variable\u001b[1;34m(name, shape)\u001b[0m\n\u001b[0;32m      8\u001b[0m     \u001b[1;33m:\u001b[0m\u001b[1;32mreturn\u001b[0m\u001b[1;33m:\u001b[0m \u001b[0minitialized\u001b[0m \u001b[0mweight\u001b[0m \u001b[0mvariable\u001b[0m\u001b[1;33m\u001b[0m\u001b[1;33m\u001b[0m\u001b[0m\n\u001b[0;32m      9\u001b[0m     \"\"\"\n\u001b[1;32m---> 10\u001b[1;33m     \u001b[0miniter\u001b[0m \u001b[1;33m=\u001b[0m \u001b[0mtf\u001b[0m\u001b[1;33m.\u001b[0m\u001b[0mtruncated_normal_initializer\u001b[0m\u001b[1;33m(\u001b[0m\u001b[0mstddev\u001b[0m\u001b[1;33m=\u001b[0m\u001b[1;36m0.01\u001b[0m\u001b[1;33m)\u001b[0m\u001b[1;33m\u001b[0m\u001b[1;33m\u001b[0m\u001b[0m\n\u001b[0m\u001b[0;32m     11\u001b[0m     return tf.get_variable('W_' + name,\n\u001b[0;32m     12\u001b[0m                            \u001b[0mdtype\u001b[0m\u001b[1;33m=\u001b[0m\u001b[0mtf\u001b[0m\u001b[1;33m.\u001b[0m\u001b[0mfloat32\u001b[0m\u001b[1;33m,\u001b[0m\u001b[1;33m\u001b[0m\u001b[1;33m\u001b[0m\u001b[0m\n",
      "\u001b[1;31mAttributeError\u001b[0m: module 'tensorflow' has no attribute 'truncated_normal_initializer'"
     ]
    }
   ],
   "source": [
    "# Create a fully-connected layer with h1 nodes as hidden layer\n",
    "fc1 = fc_layer(X_train, h1, 'FC1', use_relu=True)\n",
    "# Create a fully-connected layer with n_classes nodes as output layer\n",
    "output_logits = fc_layer(fc1, n_classes, 'OUT', use_relu=False)"
   ]
  },
  {
   "cell_type": "code",
   "execution_count": null,
   "metadata": {},
   "outputs": [],
   "source": [
    "# Define the loss function, optimizer, and accuracy\n",
    "loss = tf.reduce_mean(tf.nn.softmax_cross_entropy_with_logits(labels=y, logits=output_logits), name='loss')\n",
    "optimizer = tf.train.AdamOptimizer(learning_rate=learning_rate, name='Adam-op').minimize(loss)\n",
    "correct_prediction = tf.equal(tf.argmax(output_logits, 1), tf.argmax(y, 1), name='correct_pred')\n",
    "accuracy = tf.reduce_mean(tf.cast(correct_prediction, tf.float32), name='accuracy')\n",
    "\n",
    "# Network predictions\n",
    "cls_prediction = tf.argmax(output_logits, axis=1, name='predictions')"
   ]
  }
 ],
 "metadata": {
  "language_info": {
   "codemirror_mode": {
    "name": "ipython",
    "version": 3
   },
   "file_extension": ".py",
   "mimetype": "text/x-python",
   "name": "python",
   "nbconvert_exporter": "python",
   "pygments_lexer": "ipython3",
   "version": "3.7.6-final"
  },
  "orig_nbformat": 2,
  "kernelspec": {
   "name": "python37164bit10virtualenvcae4b91a0a4b4b17865e448f6050f74c",
   "display_name": "Python 3.7.1 64-bit ('10': virtualenv)"
  }
 },
 "nbformat": 4,
 "nbformat_minor": 2
}