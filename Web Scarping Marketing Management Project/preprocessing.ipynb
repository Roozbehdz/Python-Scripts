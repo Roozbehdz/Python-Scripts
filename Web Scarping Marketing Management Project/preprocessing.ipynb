{
 "cells": [
  {
   "cell_type": "code",
   "execution_count": 1,
   "metadata": {},
   "outputs": [],
   "source": [
    "import numpy as nump\n",
    "import pandas as pd\n",
    "import re"
   ]
  },
  {
   "cell_type": "code",
   "execution_count": 2,
   "metadata": {},
   "outputs": [
    {
     "output_type": "execute_result",
     "data": {
      "text/plain": "1781"
     },
     "metadata": {},
     "execution_count": 2
    }
   ],
   "source": [
    "df1 = pd.read_excel(\"ConsumerAffairs.xlsx\", usecols= ['Text', 'Stars', 'Helpful_Count', 'Date'])\n",
    "len(df1.Text.unique())"
   ]
  },
  {
   "cell_type": "code",
   "execution_count": 3,
   "metadata": {},
   "outputs": [
    {
     "output_type": "execute_result",
     "data": {
      "text/plain": "810"
     },
     "metadata": {},
     "execution_count": 3
    }
   ],
   "source": [
    "df2 = pd.read_excel(\"SiteJabber.xlsx\", usecols= ['Text', 'Stars', 'Helpful_Count', 'Date'])\n",
    "len(df2.Text.unique())"
   ]
  },
  {
   "cell_type": "code",
   "execution_count": 8,
   "metadata": {},
   "outputs": [
    {
     "output_type": "execute_result",
     "data": {
      "text/plain": "                                                  Text  Stars Helpful_Count  \\\n0    Okay, made a uber eats account.... tried to or...      1             2   \n1    Here's what i sent them to a contact email sin...      1             0   \n2    I was going in to work in the rain my normal f...      1             0   \n3    Uber through venmo Sucks!!! Each time I pay Ub...      1             0   \n4    Stone cold fast food is on a parr with eating ...      1             0   \n..                                                 ...    ...           ...   \n805  Get $50 in ride credits from Lyft for those th...      1             8   \n806  Uber Blocked My Account without any concern th...      1            14   \n807  UBER IS THEE MOST RAGGEDLY OPERATED COMPANY IN...      1             3   \n808  Danielle Sep 20, 20:47 PDTI want my personal i...      1             3   \n809  It's been 2 years that we are using uber, but ...      1             2   \n\n                    Date  \n0    February 25th, 2020  \n1        April 6th, 2020  \n2       March 16th, 2020  \n3       April 30th, 2020  \n4     January 26th, 2020  \n..                   ...  \n805  November 14th, 2015  \n806   February 2nd, 2015  \n807     April 24th, 2016  \n808  December 14th, 2016  \n809     April 21st, 2016  \n\n[810 rows x 4 columns]",
      "text/html": "<div>\n<style scoped>\n    .dataframe tbody tr th:only-of-type {\n        vertical-align: middle;\n    }\n\n    .dataframe tbody tr th {\n        vertical-align: top;\n    }\n\n    .dataframe thead th {\n        text-align: right;\n    }\n</style>\n<table border=\"1\" class=\"dataframe\">\n  <thead>\n    <tr style=\"text-align: right;\">\n      <th></th>\n      <th>Text</th>\n      <th>Stars</th>\n      <th>Helpful_Count</th>\n      <th>Date</th>\n    </tr>\n  </thead>\n  <tbody>\n    <tr>\n      <th>0</th>\n      <td>Okay, made a uber eats account.... tried to or...</td>\n      <td>1</td>\n      <td>2</td>\n      <td>February 25th, 2020</td>\n    </tr>\n    <tr>\n      <th>1</th>\n      <td>Here's what i sent them to a contact email sin...</td>\n      <td>1</td>\n      <td>0</td>\n      <td>April 6th, 2020</td>\n    </tr>\n    <tr>\n      <th>2</th>\n      <td>I was going in to work in the rain my normal f...</td>\n      <td>1</td>\n      <td>0</td>\n      <td>March 16th, 2020</td>\n    </tr>\n    <tr>\n      <th>3</th>\n      <td>Uber through venmo Sucks!!! Each time I pay Ub...</td>\n      <td>1</td>\n      <td>0</td>\n      <td>April 30th, 2020</td>\n    </tr>\n    <tr>\n      <th>4</th>\n      <td>Stone cold fast food is on a parr with eating ...</td>\n      <td>1</td>\n      <td>0</td>\n      <td>January 26th, 2020</td>\n    </tr>\n    <tr>\n      <th>...</th>\n      <td>...</td>\n      <td>...</td>\n      <td>...</td>\n      <td>...</td>\n    </tr>\n    <tr>\n      <th>805</th>\n      <td>Get $50 in ride credits from Lyft for those th...</td>\n      <td>1</td>\n      <td>8</td>\n      <td>November 14th, 2015</td>\n    </tr>\n    <tr>\n      <th>806</th>\n      <td>Uber Blocked My Account without any concern th...</td>\n      <td>1</td>\n      <td>14</td>\n      <td>February 2nd, 2015</td>\n    </tr>\n    <tr>\n      <th>807</th>\n      <td>UBER IS THEE MOST RAGGEDLY OPERATED COMPANY IN...</td>\n      <td>1</td>\n      <td>3</td>\n      <td>April 24th, 2016</td>\n    </tr>\n    <tr>\n      <th>808</th>\n      <td>Danielle Sep 20, 20:47 PDTI want my personal i...</td>\n      <td>1</td>\n      <td>3</td>\n      <td>December 14th, 2016</td>\n    </tr>\n    <tr>\n      <th>809</th>\n      <td>It's been 2 years that we are using uber, but ...</td>\n      <td>1</td>\n      <td>2</td>\n      <td>April 21st, 2016</td>\n    </tr>\n  </tbody>\n</table>\n<p>810 rows × 4 columns</p>\n</div>"
     },
     "metadata": {},
     "execution_count": 8
    }
   ],
   "source": [
    "#Remove tabs and next lines\n",
    "df1['Date'] = df1['Date'].replace('Original review:', '', regex=True)\n",
    "df1['Date'] = df1['Date'].replace('Resolution response: ', '', regex=True)\n",
    "df2['Date'] = df2['Date'].replace(['\\n', '\\t'], ['', ''], regex=True)\n",
    "df1.Text = df1.Text.replace(['\\n', '\\t'], ['', ''], regex=True)\n",
    "df2.Text = df2.Text.replace(['\\n', '\\t'], ['', ''], regex=True)\n",
    "df1['Helpful_Count'] = df1['Helpful_Count'].replace(['\\n', '\\t'], ['', ''], regex=True)\n",
    "df2"
   ]
  },
  {
   "cell_type": "code",
   "execution_count": 9,
   "metadata": {},
   "outputs": [
    {
     "output_type": "execute_result",
     "data": {
      "text/plain": "                                                   Text  Stars Helpful_Count  \\\n0     I’m not huge on ride share or using anything t...      1             6   \n1     I do not have Uber in the area where I live. B...      1             7   \n2     We used two separate Uber drivers, one on the ...      1             0   \n3     I've been using Uber for 10 years..when it beg...      1             3   \n4     We have used Uber several times. Some are very...      1             0   \n...                                                 ...    ...           ...   \n1778  After \"days\" of waiting for that online passwo...      1            19   \n1779  I have got a Rs 300 free ride valid up to 31st...      1            14   \n1780  Even after Delhi case Driver misbehaved. He dr...      1            10   \n1781  March 2015 I took a trip to New York. A cowork...      1            22   \n1782  I used Uber twice on a recent trip to Houston ...      1            13   \n\n                 Date  \n0       Nov. 14, 2019  \n1        Nov. 8, 2019  \n2        Nov. 8, 2019  \n3        Nov. 7, 2019  \n4        Nov. 2, 2019  \n...               ...  \n1778    June 16, 2015  \n1779     June 3, 2015  \n1780   April 14, 2015  \n1781    April 2, 2015  \n1782   Sept. 19, 2014  \n\n[1783 rows x 4 columns]",
      "text/html": "<div>\n<style scoped>\n    .dataframe tbody tr th:only-of-type {\n        vertical-align: middle;\n    }\n\n    .dataframe tbody tr th {\n        vertical-align: top;\n    }\n\n    .dataframe thead th {\n        text-align: right;\n    }\n</style>\n<table border=\"1\" class=\"dataframe\">\n  <thead>\n    <tr style=\"text-align: right;\">\n      <th></th>\n      <th>Text</th>\n      <th>Stars</th>\n      <th>Helpful_Count</th>\n      <th>Date</th>\n    </tr>\n  </thead>\n  <tbody>\n    <tr>\n      <th>0</th>\n      <td>I’m not huge on ride share or using anything t...</td>\n      <td>1</td>\n      <td>6</td>\n      <td>Nov. 14, 2019</td>\n    </tr>\n    <tr>\n      <th>1</th>\n      <td>I do not have Uber in the area where I live. B...</td>\n      <td>1</td>\n      <td>7</td>\n      <td>Nov. 8, 2019</td>\n    </tr>\n    <tr>\n      <th>2</th>\n      <td>We used two separate Uber drivers, one on the ...</td>\n      <td>1</td>\n      <td>0</td>\n      <td>Nov. 8, 2019</td>\n    </tr>\n    <tr>\n      <th>3</th>\n      <td>I've been using Uber for 10 years..when it beg...</td>\n      <td>1</td>\n      <td>3</td>\n      <td>Nov. 7, 2019</td>\n    </tr>\n    <tr>\n      <th>4</th>\n      <td>We have used Uber several times. Some are very...</td>\n      <td>1</td>\n      <td>0</td>\n      <td>Nov. 2, 2019</td>\n    </tr>\n    <tr>\n      <th>...</th>\n      <td>...</td>\n      <td>...</td>\n      <td>...</td>\n      <td>...</td>\n    </tr>\n    <tr>\n      <th>1778</th>\n      <td>After \"days\" of waiting for that online passwo...</td>\n      <td>1</td>\n      <td>19</td>\n      <td>June 16, 2015</td>\n    </tr>\n    <tr>\n      <th>1779</th>\n      <td>I have got a Rs 300 free ride valid up to 31st...</td>\n      <td>1</td>\n      <td>14</td>\n      <td>June 3, 2015</td>\n    </tr>\n    <tr>\n      <th>1780</th>\n      <td>Even after Delhi case Driver misbehaved. He dr...</td>\n      <td>1</td>\n      <td>10</td>\n      <td>April 14, 2015</td>\n    </tr>\n    <tr>\n      <th>1781</th>\n      <td>March 2015 I took a trip to New York. A cowork...</td>\n      <td>1</td>\n      <td>22</td>\n      <td>April 2, 2015</td>\n    </tr>\n    <tr>\n      <th>1782</th>\n      <td>I used Uber twice on a recent trip to Houston ...</td>\n      <td>1</td>\n      <td>13</td>\n      <td>Sept. 19, 2014</td>\n    </tr>\n  </tbody>\n</table>\n<p>1783 rows × 4 columns</p>\n</div>"
     },
     "metadata": {},
     "execution_count": 9
    }
   ],
   "source": [
    "#Extract numbers\n",
    "df1.Helpful_Count =  df1.Helpful_Count.str.extract('(\\d+)').fillna(0)\n",
    "df2.Helpful_Count =  df2.Helpful_Count.str.extract('(\\d+)')\n",
    "df1"
   ]
  },
  {
   "cell_type": "code",
   "execution_count": 10,
   "metadata": {},
   "outputs": [
    {
     "output_type": "execute_result",
     "data": {
      "text/plain": "                                                   Text  Stars Helpful_Count  \\\n658   Company responded, states charges won't go thr...      1             2   \n85    My complaint turned out to be incorrect, and I...      1             0   \n933   I went on Google and searched \"Uber Executive ...      1             3   \n1514  Uber updated the software and after a re insta...      1            10   \n1524  My daughter called us today to inform us Uber ...      1             3   \n...                                                 ...    ...           ...   \n350   The drivers, of course drive extremely fast. T...      1             2   \n1699  My Uber driver took me 20 minutes out of the w...      1            13   \n16    I have used Uber 4 times and never again. Thre...      1             0   \n966   UBER does not properly investigate passenger c...      1             6   \n1435  I used Uber once in a while because 1. they ar...      1             0   \n\n                 Date  \n658     Oct. 25, 2018  \n85      Nov. 27, 2019  \n933       May 6, 2018  \n1514   March 14, 2017  \n1524     Feb. 4, 2017  \n...               ...  \n350    April 10, 2019  \n1699   April 10, 2016  \n16      April 1, 2020  \n966     April 1, 2018  \n1435    April 1, 2017  \n\n[1783 rows x 4 columns]",
      "text/html": "<div>\n<style scoped>\n    .dataframe tbody tr th:only-of-type {\n        vertical-align: middle;\n    }\n\n    .dataframe tbody tr th {\n        vertical-align: top;\n    }\n\n    .dataframe thead th {\n        text-align: right;\n    }\n</style>\n<table border=\"1\" class=\"dataframe\">\n  <thead>\n    <tr style=\"text-align: right;\">\n      <th></th>\n      <th>Text</th>\n      <th>Stars</th>\n      <th>Helpful_Count</th>\n      <th>Date</th>\n    </tr>\n  </thead>\n  <tbody>\n    <tr>\n      <th>658</th>\n      <td>Company responded, states charges won't go thr...</td>\n      <td>1</td>\n      <td>2</td>\n      <td>Oct. 25, 2018</td>\n    </tr>\n    <tr>\n      <th>85</th>\n      <td>My complaint turned out to be incorrect, and I...</td>\n      <td>1</td>\n      <td>0</td>\n      <td>Nov. 27, 2019</td>\n    </tr>\n    <tr>\n      <th>933</th>\n      <td>I went on Google and searched \"Uber Executive ...</td>\n      <td>1</td>\n      <td>3</td>\n      <td>May 6, 2018</td>\n    </tr>\n    <tr>\n      <th>1514</th>\n      <td>Uber updated the software and after a re insta...</td>\n      <td>1</td>\n      <td>10</td>\n      <td>March 14, 2017</td>\n    </tr>\n    <tr>\n      <th>1524</th>\n      <td>My daughter called us today to inform us Uber ...</td>\n      <td>1</td>\n      <td>3</td>\n      <td>Feb. 4, 2017</td>\n    </tr>\n    <tr>\n      <th>...</th>\n      <td>...</td>\n      <td>...</td>\n      <td>...</td>\n      <td>...</td>\n    </tr>\n    <tr>\n      <th>350</th>\n      <td>The drivers, of course drive extremely fast. T...</td>\n      <td>1</td>\n      <td>2</td>\n      <td>April 10, 2019</td>\n    </tr>\n    <tr>\n      <th>1699</th>\n      <td>My Uber driver took me 20 minutes out of the w...</td>\n      <td>1</td>\n      <td>13</td>\n      <td>April 10, 2016</td>\n    </tr>\n    <tr>\n      <th>16</th>\n      <td>I have used Uber 4 times and never again. Thre...</td>\n      <td>1</td>\n      <td>0</td>\n      <td>April 1, 2020</td>\n    </tr>\n    <tr>\n      <th>966</th>\n      <td>UBER does not properly investigate passenger c...</td>\n      <td>1</td>\n      <td>6</td>\n      <td>April 1, 2018</td>\n    </tr>\n    <tr>\n      <th>1435</th>\n      <td>I used Uber once in a while because 1. they ar...</td>\n      <td>1</td>\n      <td>0</td>\n      <td>April 1, 2017</td>\n    </tr>\n  </tbody>\n</table>\n<p>1783 rows × 4 columns</p>\n</div>"
     },
     "metadata": {},
     "execution_count": 10
    }
   ],
   "source": [
    "#Change stars to integer\n",
    "df1.Stars = df1.Stars.astype(int)\n",
    "df1.sort_values('Date', ascending= False)"
   ]
  },
  {
   "cell_type": "code",
   "execution_count": 11,
   "metadata": {},
   "outputs": [],
   "source": [
    "#Change date formats\n",
    "df1.Date = pd.to_datetime(df1.Date)\n",
    "df2.Date = pd.to_datetime(df2.Date)"
   ]
  },
  {
   "cell_type": "code",
   "execution_count": 48,
   "metadata": {},
   "outputs": [],
   "source": [
    "frames = [df1, df2]\n",
    "\n",
    "df = pd.concat(frames)\n",
    "df = df.sort_values(['Date'], ascending= False).drop_duplicates('Text').reset_index()\n",
    "del df['index']\n",
    "df.to_excel(\"Uber Reviews Dataset.xlsx\", index=False)"
   ]
  }
 ],
 "metadata": {
  "language_info": {
   "codemirror_mode": {
    "name": "ipython",
    "version": 3
   },
   "file_extension": ".py",
   "mimetype": "text/x-python",
   "name": "python",
   "nbconvert_exporter": "python",
   "pygments_lexer": "ipython3",
   "version": "3.7.6-final"
  },
  "orig_nbformat": 2,
  "kernelspec": {
   "name": "python37164bit10virtualenvcae4b91a0a4b4b17865e448f6050f74c",
   "display_name": "Python 3.7.1 64-bit ('10': virtualenv)"
  }
 },
 "nbformat": 4,
 "nbformat_minor": 2
}