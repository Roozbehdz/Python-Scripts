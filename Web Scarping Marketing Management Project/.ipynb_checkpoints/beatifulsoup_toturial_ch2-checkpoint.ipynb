{
 "cells": [
  {
   "cell_type": "markdown",
   "metadata": {},
   "source": [
    "# Search Using Beautiful Soup"
   ]
  },
  {
   "cell_type": "markdown",
   "metadata": {},
   "source": [
    "## Searching in Beautiful Soup\n",
    "• find()\n",
    "• find_all()\n",
    "• find_parent()\n",
    "• find_parents()\n",
    "• find_next_sibling()\n",
    "• find_next_siblings()\n",
    "• find_previous_sibling()\n",
    "• find_previous_siblings()"
   ]
  },
  {
   "cell_type": "markdown",
   "metadata": {},
   "source": [
    "### Searching with find()"
   ]
  },
  {
   "cell_type": "code",
   "execution_count": 39,
   "metadata": {},
   "outputs": [
    {
     "name": "stdout",
     "output_type": "stream",
     "text": [
      "plants\n"
     ]
    }
   ],
   "source": [
    "from bs4 import BeautifulSoup\n",
    "\n",
    "with open(\"ecologicalpyramid.html\",\"r\") as ecological_pyramid:\n",
    "    soup = BeautifulSoup(ecological_pyramid,\"lxml\")\n",
    "\n",
    "producer_entries = soup.find(\"ul\")\n",
    "print(producer_entries.li.div.string)"
   ]
  },
  {
   "cell_type": "markdown",
   "metadata": {},
   "source": [
    "### Searching for tags"
   ]
  },
  {
   "cell_type": "code",
   "execution_count": 40,
   "metadata": {},
   "outputs": [
    {
     "name": "stdout",
     "output_type": "stream",
     "text": [
      "<class 'bs4.element.Tag'>\n"
     ]
    }
   ],
   "source": [
    "tag_li = soup.find(\"li\")\n",
    "print(type(tag_li))"
   ]
  },
  {
   "cell_type": "markdown",
   "metadata": {},
   "source": [
    "### Searching for text"
   ]
  },
  {
   "cell_type": "code",
   "execution_count": 4,
   "metadata": {},
   "outputs": [
    {
     "name": "stdout",
     "output_type": "stream",
     "text": [
      "fox\n"
     ]
    }
   ],
   "source": [
    "search_for_stringonly = soup.find(text=\"fox\")\n",
    "print(search_for_stringonly)"
   ]
  },
  {
   "cell_type": "markdown",
   "metadata": {},
   "source": [
    "### Searching based on regular expressions"
   ]
  },
  {
   "cell_type": "code",
   "execution_count": 38,
   "metadata": {},
   "outputs": [
    {
     "name": "stdout",
     "output_type": "stream",
     "text": [
      "\n",
      "abc@example.com\n",
      "\n"
     ]
    }
   ],
   "source": [
    "import re\n",
    "from bs4 import BeautifulSoup\n",
    "\n",
    "email_id_example = \"\"\"<br/>\n",
    "<div>The below HTML has the information that has email ids.</div>\n",
    "abc@example.com\n",
    "<div>xyz@example.com</div>\n",
    "<span>foo@example.com</span>\n",
    "\"\"\"\n",
    "soup_reg = BeautifulSoup(email_id_example,\"lxml\")\n",
    "\n",
    "emailid_regexp = re.compile(\"\\w+@\\w+\\.\\w+\")\n",
    "first_email_id = soup_reg.find(text=emailid_regexp)\n",
    "print(first_email_id)"
   ]
  },
  {
   "cell_type": "markdown",
   "metadata": {},
   "source": [
    "### Searching based on attribute values of a tag"
   ]
  },
  {
   "cell_type": "markdown",
   "metadata": {},
   "source": [
    "#### Finding the first primary consumer"
   ]
  },
  {
   "cell_type": "code",
   "execution_count": 8,
   "metadata": {},
   "outputs": [
    {
     "name": "stdout",
     "output_type": "stream",
     "text": [
      "deer\n"
     ]
    }
   ],
   "source": [
    "primary_consumers = soup.find(id=\"primaryconsumers\")\n",
    "print(primary_consumers.li.div.string)"
   ]
  },
  {
   "cell_type": "markdown",
   "metadata": {},
   "source": [
    "#### Searching based on custom attributes"
   ]
  },
  {
   "cell_type": "code",
   "execution_count": 24,
   "metadata": {},
   "outputs": [
    {
     "ename": "SyntaxError",
     "evalue": "keyword can't be an expression (<ipython-input-24-5afb9b7b71f2>, line 4)",
     "output_type": "error",
     "traceback": [
      "\u001b[1;36m  File \u001b[1;32m\"<ipython-input-24-5afb9b7b71f2>\"\u001b[1;36m, line \u001b[1;32m4\u001b[0m\n\u001b[1;33m    customsoup.find(data-custom=\"custom\")\u001b[0m\n\u001b[1;37m                   ^\u001b[0m\n\u001b[1;31mSyntaxError\u001b[0m\u001b[1;31m:\u001b[0m keyword can't be an expression\n"
     ]
    }
   ],
   "source": [
    "customattr = \"\"\"<p data-custom=\"custom\">custom attributeexample</p>\"\"\"\n",
    "print(customattr)\n",
    "customsoup = BeautifulSoup(customattr,'lxml')\n",
    "customsoup.find(data-custom=\"custom\")"
   ]
  },
  {
   "cell_type": "markdown",
   "metadata": {},
   "source": [
    "The error is thrown because Python variables cannot contain a - character and the\n",
    "data-custom variable that we passed contained a - character."
   ]
  },
  {
   "cell_type": "code",
   "execution_count": 23,
   "metadata": {},
   "outputs": [
    {
     "name": "stdout",
     "output_type": "stream",
     "text": [
      "<p data-custom=\"custom\">custom attributeexample</p>\n"
     ]
    }
   ],
   "source": [
    "using_attrs = customsoup.find(attrs={'data-custom':'custom'})\n",
    "print(using_attrs)"
   ]
  },
  {
   "cell_type": "markdown",
   "metadata": {},
   "source": [
    "#### Searching based on the CSS class"
   ]
  },
  {
   "cell_type": "code",
   "execution_count": 42,
   "metadata": {},
   "outputs": [
    {
     "name": "stdout",
     "output_type": "stream",
     "text": [
      "<li class=\"primaryconsumerlist\">\n",
      "<div class=\"name\">deer</div>\n",
      "<div class=\"number\">1000</div>\n",
      "</li>\n"
     ]
    }
   ],
   "source": [
    "css_class = soup.find(attrs={'class':'primaryconsumerlist'})\n",
    "print(css_class)"
   ]
  },
  {
   "cell_type": "code",
   "execution_count": 43,
   "metadata": {},
   "outputs": [
    {
     "name": "stdout",
     "output_type": "stream",
     "text": [
      "<li class=\"primaryconsumerlist\">\n",
      "<div class=\"name\">deer</div>\n",
      "<div class=\"number\">1000</div>\n",
      "</li>\n"
     ]
    }
   ],
   "source": [
    "css_class = soup.find(class_ = \"primaryconsumerlist\" )\n",
    "print(css_class)"
   ]
  },
  {
   "cell_type": "markdown",
   "metadata": {},
   "source": [
    "#### Searching using functions defined"
   ]
  },
  {
   "cell_type": "code",
   "execution_count": 44,
   "metadata": {},
   "outputs": [
    {
     "name": "stdout",
     "output_type": "stream",
     "text": [
      "fox\n"
     ]
    }
   ],
   "source": [
    "def is_secondary_consumers(tag):\n",
    "    return tag.has_attr('id') and tag.get('id') == 'secondaryconsumers'\n",
    "\n",
    "secondary_consumer = soup.find(is_secondary_consumers)\n",
    "print(secondary_consumer.li.div.string)"
   ]
  },
  {
   "cell_type": "markdown",
   "metadata": {},
   "source": [
    "#### Applying searching methods in combination"
   ]
  },
  {
   "cell_type": "code",
   "execution_count": 49,
   "metadata": {},
   "outputs": [
    {
     "name": "stdout",
     "output_type": "stream",
     "text": [
      "<div class=\"identical\">\n",
      "Example of div tag with class identical\n",
      "</div>\n"
     ]
    }
   ],
   "source": [
    "combination_example = \"\"\"<p class=\"identical\">\n",
    "Example of p tag with class identical\n",
    "</p>\n",
    "<div class=\"identical\">\n",
    "Example of div tag with class identical\n",
    "</div>\"\"\"\n",
    "\n",
    "combination_example_soup = BeautifulSoup(combination_example,'lxml')\n",
    "\n",
    "identical_div= combination_example_soup.find(\"div\", class_='identical')\n",
    "print(identical_div)"
   ]
  },
  {
   "cell_type": "code",
   "execution_count": null,
   "metadata": {},
   "outputs": [],
   "source": []
  }
 ],
 "metadata": {
  "kernelspec": {
   "display_name": "Python 3.7.1 64-bit ('10': virtualenv)",
   "language": "python",
   "name": "python37164bit10virtualenvcae4b91a0a4b4b17865e448f6050f74c"
  },
  "language_info": {
   "codemirror_mode": {
    "name": "ipython",
    "version": 3
   },
   "file_extension": ".py",
   "mimetype": "text/x-python",
   "name": "python",
   "nbconvert_exporter": "python",
   "pygments_lexer": "ipython3",
   "version": "3.7.6"
  },
  "widgets": {
   "application/vnd.jupyter.widget-state+json": {
    "state": {},
    "version_major": 2,
    "version_minor": 0
   }
  }
 },
 "nbformat": 4,
 "nbformat_minor": 4
}
