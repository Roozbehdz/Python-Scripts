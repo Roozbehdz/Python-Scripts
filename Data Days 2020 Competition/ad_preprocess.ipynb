{
 "nbformat": 4,
 "nbformat_minor": 2,
 "metadata": {
  "language_info": {
   "name": "python",
   "codemirror_mode": {
    "name": "ipython",
    "version": 3
   },
   "version": "3.7.1-final"
  },
  "orig_nbformat": 2,
  "file_extension": ".py",
  "mimetype": "text/x-python",
  "name": "python",
  "npconvert_exporter": "python",
  "pygments_lexer": "ipython3",
  "version": 3,
  "kernelspec": {
   "name": "python37164bit10virtualenvcae4b91a0a4b4b17865e448f6050f74c",
   "display_name": "Python 3.7.1 64-bit ('10': virtualenv)"
  }
 },
 "cells": [
  {
   "cell_type": "code",
   "execution_count": 1,
   "metadata": {},
   "outputs": [],
   "source": [
    "import pandas as pd"
   ]
  },
  {
   "cell_type": "code",
   "execution_count": 2,
   "metadata": {},
   "outputs": [
    {
     "data": {
      "text/html": "<div>\n<style scoped>\n    .dataframe tbody tr th:only-of-type {\n        vertical-align: middle;\n    }\n\n    .dataframe tbody tr th {\n        vertical-align: top;\n    }\n\n    .dataframe thead th {\n        text-align: right;\n    }\n</style>\n<table border=\"1\" class=\"dataframe\">\n  <thead>\n    <tr style=\"text-align: right;\">\n      <th></th>\n      <th>adId</th>\n      <th>campaignId</th>\n      <th>advertiserId</th>\n    </tr>\n  </thead>\n  <tbody>\n    <tr>\n      <th>0</th>\n      <td>7867</td>\n      <td>5918</td>\n      <td>8414</td>\n    </tr>\n    <tr>\n      <th>1</th>\n      <td>7866</td>\n      <td>5918</td>\n      <td>8414</td>\n    </tr>\n    <tr>\n      <th>2</th>\n      <td>7865</td>\n      <td>5918</td>\n      <td>8414</td>\n    </tr>\n    <tr>\n      <th>3</th>\n      <td>7863</td>\n      <td>8343</td>\n      <td>8414</td>\n    </tr>\n    <tr>\n      <th>4</th>\n      <td>7862</td>\n      <td>8343</td>\n      <td>8414</td>\n    </tr>\n  </tbody>\n</table>\n</div>",
      "text/plain": "   adId  campaignId  advertiserId\n0  7867        5918          8414\n1  7866        5918          8414\n2  7865        5918          8414\n3  7863        8343          8414\n4  7862        8343          8414"
     },
     "execution_count": 2,
     "metadata": {},
     "output_type": "execute_result"
    }
   ],
   "source": [
    "ad_df = pd.read_csv(r'D:\\datadays2020_contest_public_dataset\\ad.csv')\n",
    "ad_df.head()"
   ]
  },
  {
   "cell_type": "code",
   "execution_count": 4,
   "metadata": {},
   "outputs": [
    {
     "data": {
      "text/html": "<div>\n<style scoped>\n    .dataframe tbody tr th:only-of-type {\n        vertical-align: middle;\n    }\n\n    .dataframe tbody tr th {\n        vertical-align: top;\n    }\n\n    .dataframe thead th {\n        text-align: right;\n    }\n</style>\n<table border=\"1\" class=\"dataframe\">\n  <thead>\n    <tr style=\"text-align: right;\">\n      <th></th>\n      <th>adId</th>\n      <th>word_0</th>\n      <th>word_1</th>\n      <th>word_3</th>\n      <th>word_4</th>\n      <th>word_5</th>\n      <th>word_6</th>\n      <th>word_7</th>\n      <th>word_8</th>\n      <th>word_9</th>\n      <th>...</th>\n      <th>word_2674</th>\n      <th>word_2675</th>\n      <th>word_2676</th>\n      <th>word_2677</th>\n      <th>word_2678</th>\n      <th>word_2679</th>\n      <th>word_2680</th>\n      <th>word_2681</th>\n      <th>word_2682</th>\n      <th>word_2683</th>\n    </tr>\n  </thead>\n  <tbody>\n    <tr>\n      <th>0</th>\n      <td>6</td>\n      <td>0.0</td>\n      <td>0.0</td>\n      <td>0.0</td>\n      <td>0.0</td>\n      <td>0.0</td>\n      <td>0.0</td>\n      <td>0.0</td>\n      <td>0.0</td>\n      <td>0.0</td>\n      <td>...</td>\n      <td>0.0</td>\n      <td>0.0</td>\n      <td>0.0</td>\n      <td>0.0</td>\n      <td>0.0</td>\n      <td>0.0</td>\n      <td>0.0</td>\n      <td>0.0</td>\n      <td>0.0</td>\n      <td>0.0</td>\n    </tr>\n    <tr>\n      <th>1</th>\n      <td>7</td>\n      <td>0.0</td>\n      <td>0.0</td>\n      <td>0.0</td>\n      <td>0.0</td>\n      <td>0.0</td>\n      <td>0.0</td>\n      <td>0.0</td>\n      <td>0.0</td>\n      <td>0.0</td>\n      <td>...</td>\n      <td>0.0</td>\n      <td>0.0</td>\n      <td>0.0</td>\n      <td>0.0</td>\n      <td>0.0</td>\n      <td>0.0</td>\n      <td>0.0</td>\n      <td>0.0</td>\n      <td>0.0</td>\n      <td>0.0</td>\n    </tr>\n    <tr>\n      <th>2</th>\n      <td>8</td>\n      <td>0.0</td>\n      <td>0.0</td>\n      <td>0.0</td>\n      <td>0.0</td>\n      <td>0.0</td>\n      <td>0.0</td>\n      <td>0.0</td>\n      <td>1.0</td>\n      <td>0.0</td>\n      <td>...</td>\n      <td>0.0</td>\n      <td>0.0</td>\n      <td>0.0</td>\n      <td>0.0</td>\n      <td>0.0</td>\n      <td>0.0</td>\n      <td>0.0</td>\n      <td>0.0</td>\n      <td>0.0</td>\n      <td>0.0</td>\n    </tr>\n    <tr>\n      <th>3</th>\n      <td>11</td>\n      <td>0.0</td>\n      <td>0.0</td>\n      <td>0.0</td>\n      <td>0.0</td>\n      <td>0.0</td>\n      <td>0.0</td>\n      <td>0.0</td>\n      <td>0.0</td>\n      <td>0.0</td>\n      <td>...</td>\n      <td>0.0</td>\n      <td>0.0</td>\n      <td>0.0</td>\n      <td>0.0</td>\n      <td>0.0</td>\n      <td>0.0</td>\n      <td>0.0</td>\n      <td>0.0</td>\n      <td>0.0</td>\n      <td>0.0</td>\n    </tr>\n    <tr>\n      <th>4</th>\n      <td>13</td>\n      <td>0.0</td>\n      <td>0.0</td>\n      <td>0.0</td>\n      <td>0.0</td>\n      <td>0.0</td>\n      <td>0.0</td>\n      <td>0.0</td>\n      <td>0.0</td>\n      <td>0.0</td>\n      <td>...</td>\n      <td>0.0</td>\n      <td>0.0</td>\n      <td>0.0</td>\n      <td>0.0</td>\n      <td>0.0</td>\n      <td>0.0</td>\n      <td>0.0</td>\n      <td>0.0</td>\n      <td>0.0</td>\n      <td>0.0</td>\n    </tr>\n  </tbody>\n</table>\n<p>5 rows × 2109 columns</p>\n</div>",
      "text/plain": "   adId  word_0  word_1  word_3  word_4  word_5  word_6  word_7  word_8  \\\n0     6     0.0     0.0     0.0     0.0     0.0     0.0     0.0     0.0   \n1     7     0.0     0.0     0.0     0.0     0.0     0.0     0.0     0.0   \n2     8     0.0     0.0     0.0     0.0     0.0     0.0     0.0     1.0   \n3    11     0.0     0.0     0.0     0.0     0.0     0.0     0.0     0.0   \n4    13     0.0     0.0     0.0     0.0     0.0     0.0     0.0     0.0   \n\n   word_9  ...  word_2674  word_2675  word_2676  word_2677  word_2678  \\\n0     0.0  ...        0.0        0.0        0.0        0.0        0.0   \n1     0.0  ...        0.0        0.0        0.0        0.0        0.0   \n2     0.0  ...        0.0        0.0        0.0        0.0        0.0   \n3     0.0  ...        0.0        0.0        0.0        0.0        0.0   \n4     0.0  ...        0.0        0.0        0.0        0.0        0.0   \n\n   word_2679  word_2680  word_2681  word_2682  word_2683  \n0        0.0        0.0        0.0        0.0        0.0  \n1        0.0        0.0        0.0        0.0        0.0  \n2        0.0        0.0        0.0        0.0        0.0  \n3        0.0        0.0        0.0        0.0        0.0  \n4        0.0        0.0        0.0        0.0        0.0  \n\n[5 rows x 2109 columns]"
     },
     "execution_count": 4,
     "metadata": {},
     "output_type": "execute_result"
    }
   ],
   "source": [
    "ad_title_df = pd.read_csv(r'D:\\datadays2020_contest_public_dataset\\new_ad_title.csv')\n",
    "ad_title_df = ad_title_df.replace(True , 1)\n",
    "ad_title_df.head()"
   ]
  },
  {
   "cell_type": "code",
   "execution_count": 5,
   "metadata": {},
   "outputs": [
    {
     "data": {
      "text/html": "<div>\n<style scoped>\n    .dataframe tbody tr th:only-of-type {\n        vertical-align: middle;\n    }\n\n    .dataframe tbody tr th {\n        vertical-align: top;\n    }\n\n    .dataframe thead th {\n        text-align: right;\n    }\n</style>\n<table border=\"1\" class=\"dataframe\">\n  <thead>\n    <tr style=\"text-align: right;\">\n      <th></th>\n      <th>adId</th>\n      <th>imageFeature1</th>\n      <th>imageFeature2</th>\n      <th>imageFeature3</th>\n      <th>imageFeature4</th>\n      <th>imageFeature5</th>\n      <th>imageFeature6</th>\n      <th>imageFeature7</th>\n      <th>imageFeature8</th>\n      <th>imageFeature9</th>\n      <th>...</th>\n      <th>imageFeature503</th>\n      <th>imageFeature504</th>\n      <th>imageFeature505</th>\n      <th>imageFeature506</th>\n      <th>imageFeature507</th>\n      <th>imageFeature508</th>\n      <th>imageFeature509</th>\n      <th>imageFeature510</th>\n      <th>imageFeature511</th>\n      <th>imageFeature512</th>\n    </tr>\n  </thead>\n  <tbody>\n    <tr>\n      <th>0</th>\n      <td>7867</td>\n      <td>0.052459</td>\n      <td>0.000000</td>\n      <td>0.042624</td>\n      <td>0.333583</td>\n      <td>0.383563</td>\n      <td>0.001634</td>\n      <td>0.344869</td>\n      <td>0.525469</td>\n      <td>0.053760</td>\n      <td>...</td>\n      <td>0.233728</td>\n      <td>0.539480</td>\n      <td>0.152508</td>\n      <td>0.344518</td>\n      <td>0.778731</td>\n      <td>0.078295</td>\n      <td>0.160162</td>\n      <td>0.000000</td>\n      <td>0.305145</td>\n      <td>0.018119</td>\n    </tr>\n    <tr>\n      <th>1</th>\n      <td>7866</td>\n      <td>0.003216</td>\n      <td>0.144424</td>\n      <td>0.000149</td>\n      <td>0.246036</td>\n      <td>0.133644</td>\n      <td>0.000000</td>\n      <td>0.915359</td>\n      <td>0.494597</td>\n      <td>0.000000</td>\n      <td>...</td>\n      <td>0.024028</td>\n      <td>0.429552</td>\n      <td>0.124412</td>\n      <td>0.884689</td>\n      <td>0.471237</td>\n      <td>0.018215</td>\n      <td>0.321597</td>\n      <td>0.000000</td>\n      <td>0.471502</td>\n      <td>0.000000</td>\n    </tr>\n    <tr>\n      <th>2</th>\n      <td>7865</td>\n      <td>0.027210</td>\n      <td>0.000000</td>\n      <td>0.513353</td>\n      <td>0.295720</td>\n      <td>0.378193</td>\n      <td>0.000000</td>\n      <td>0.826202</td>\n      <td>0.000000</td>\n      <td>0.000000</td>\n      <td>...</td>\n      <td>0.121223</td>\n      <td>0.076248</td>\n      <td>0.206134</td>\n      <td>1.364922</td>\n      <td>0.007159</td>\n      <td>0.022398</td>\n      <td>0.492233</td>\n      <td>0.010553</td>\n      <td>0.398881</td>\n      <td>0.298406</td>\n    </tr>\n    <tr>\n      <th>3</th>\n      <td>7863</td>\n      <td>0.001398</td>\n      <td>0.000000</td>\n      <td>0.000000</td>\n      <td>0.045557</td>\n      <td>0.264038</td>\n      <td>0.028482</td>\n      <td>0.504099</td>\n      <td>0.000000</td>\n      <td>0.367462</td>\n      <td>...</td>\n      <td>0.012589</td>\n      <td>0.583795</td>\n      <td>0.102440</td>\n      <td>1.093687</td>\n      <td>0.395305</td>\n      <td>0.295513</td>\n      <td>0.070853</td>\n      <td>0.209269</td>\n      <td>0.523830</td>\n      <td>0.000000</td>\n    </tr>\n    <tr>\n      <th>4</th>\n      <td>7862</td>\n      <td>0.024268</td>\n      <td>0.026082</td>\n      <td>0.226017</td>\n      <td>0.023072</td>\n      <td>0.490081</td>\n      <td>0.004264</td>\n      <td>0.871454</td>\n      <td>0.002935</td>\n      <td>0.361995</td>\n      <td>...</td>\n      <td>0.054965</td>\n      <td>1.150031</td>\n      <td>0.008225</td>\n      <td>1.421475</td>\n      <td>0.279329</td>\n      <td>0.159154</td>\n      <td>0.108484</td>\n      <td>0.000000</td>\n      <td>0.000000</td>\n      <td>0.016228</td>\n    </tr>\n  </tbody>\n</table>\n<p>5 rows × 513 columns</p>\n</div>",
      "text/plain": "   adId  imageFeature1  imageFeature2  imageFeature3  imageFeature4  \\\n0  7867       0.052459       0.000000       0.042624       0.333583   \n1  7866       0.003216       0.144424       0.000149       0.246036   \n2  7865       0.027210       0.000000       0.513353       0.295720   \n3  7863       0.001398       0.000000       0.000000       0.045557   \n4  7862       0.024268       0.026082       0.226017       0.023072   \n\n   imageFeature5  imageFeature6  imageFeature7  imageFeature8  imageFeature9  \\\n0       0.383563       0.001634       0.344869       0.525469       0.053760   \n1       0.133644       0.000000       0.915359       0.494597       0.000000   \n2       0.378193       0.000000       0.826202       0.000000       0.000000   \n3       0.264038       0.028482       0.504099       0.000000       0.367462   \n4       0.490081       0.004264       0.871454       0.002935       0.361995   \n\n   ...  imageFeature503  imageFeature504  imageFeature505  imageFeature506  \\\n0  ...         0.233728         0.539480         0.152508         0.344518   \n1  ...         0.024028         0.429552         0.124412         0.884689   \n2  ...         0.121223         0.076248         0.206134         1.364922   \n3  ...         0.012589         0.583795         0.102440         1.093687   \n4  ...         0.054965         1.150031         0.008225         1.421475   \n\n   imageFeature507  imageFeature508  imageFeature509  imageFeature510  \\\n0         0.778731         0.078295         0.160162         0.000000   \n1         0.471237         0.018215         0.321597         0.000000   \n2         0.007159         0.022398         0.492233         0.010553   \n3         0.395305         0.295513         0.070853         0.209269   \n4         0.279329         0.159154         0.108484         0.000000   \n\n   imageFeature511  imageFeature512  \n0         0.305145         0.018119  \n1         0.471502         0.000000  \n2         0.398881         0.298406  \n3         0.523830         0.000000  \n4         0.000000         0.016228  \n\n[5 rows x 513 columns]"
     },
     "execution_count": 5,
     "metadata": {},
     "output_type": "execute_result"
    }
   ],
   "source": [
    "ad_image_df = pd.read_csv(r'D:\\datadays2020_contest_public_dataset\\new_ad_image.csv')\n",
    "ad_image_df.head()"
   ]
  },
  {
   "cell_type": "code",
   "execution_count": 9,
   "metadata": {},
   "outputs": [],
   "source": [
    "from functools import reduce\n",
    "\n",
    "dfs = [ad_df, ad_title_df, ad_image_df]\n",
    "\n",
    "df_final = reduce(lambda left,right: pd.merge(left,right,on='adId'), dfs)\n",
    "df_final = df_final.sort_values('adId')"
   ]
  },
  {
   "cell_type": "code",
   "execution_count": 10,
   "metadata": {},
   "outputs": [],
   "source": [
    "df_final.to_csv(r'D:\\datadays2020_contest_public_dataset\\new_ad.csv')"
   ]
  },
  {
   "cell_type": "code",
   "execution_count": null,
   "metadata": {},
   "outputs": [],
   "source": []
  }
 ]
}