{
 "nbformat": 4,
 "nbformat_minor": 2,
 "metadata": {
  "language_info": {
   "name": "python",
   "codemirror_mode": {
    "name": "ipython",
    "version": 3
   },
   "version": "3.7.1-final"
  },
  "orig_nbformat": 2,
  "file_extension": ".py",
  "mimetype": "text/x-python",
  "name": "python",
  "npconvert_exporter": "python",
  "pygments_lexer": "ipython3",
  "version": 3,
  "kernelspec": {
   "name": "python37164bit10virtualenvcae4b91a0a4b4b17865e448f6050f74c",
   "display_name": "Python 3.7.1 64-bit ('10': virtualenv)"
  }
 },
 "cells": [
  {
   "cell_type": "code",
   "execution_count": 28,
   "metadata": {},
   "outputs": [],
   "source": [
    "import pandas as pd\n",
    "import numpy as np"
   ]
  },
  {
   "cell_type": "code",
   "execution_count": 29,
   "metadata": {},
   "outputs": [],
   "source": [
    "page_topic_df = pd.read_csv(r'D:\\datadays2020_contest_public_dataset\\page_topic.csv')"
   ]
  },
  {
   "cell_type": "code",
   "execution_count": 30,
   "metadata": {},
   "outputs": [
    {
     "data": {
      "text/html": "<div>\n<style scoped>\n    .dataframe tbody tr th:only-of-type {\n        vertical-align: middle;\n    }\n\n    .dataframe tbody tr th {\n        vertical-align: top;\n    }\n\n    .dataframe thead th {\n        text-align: right;\n    }\n</style>\n<table border=\"1\" class=\"dataframe\">\n  <thead>\n    <tr style=\"text-align: right;\">\n      <th></th>\n      <th>pageId</th>\n      <th>topicId</th>\n      <th>confidence</th>\n    </tr>\n  </thead>\n  <tbody>\n    <tr>\n      <th>0</th>\n      <td>10743259</td>\n      <td>37</td>\n      <td>0.497099</td>\n    </tr>\n    <tr>\n      <th>1</th>\n      <td>10743259</td>\n      <td>23</td>\n      <td>0.016994</td>\n    </tr>\n    <tr>\n      <th>2</th>\n      <td>10743259</td>\n      <td>10</td>\n      <td>0.371499</td>\n    </tr>\n    <tr>\n      <th>3</th>\n      <td>10743259</td>\n      <td>4</td>\n      <td>0.105349</td>\n    </tr>\n    <tr>\n      <th>4</th>\n      <td>10743258</td>\n      <td>33</td>\n      <td>0.245752</td>\n    </tr>\n    <tr>\n      <th>5</th>\n      <td>10743258</td>\n      <td>28</td>\n      <td>0.608877</td>\n    </tr>\n    <tr>\n      <th>6</th>\n      <td>10743258</td>\n      <td>5</td>\n      <td>0.109200</td>\n    </tr>\n    <tr>\n      <th>7</th>\n      <td>10743257</td>\n      <td>33</td>\n      <td>0.245524</td>\n    </tr>\n    <tr>\n      <th>8</th>\n      <td>10743257</td>\n      <td>28</td>\n      <td>0.608617</td>\n    </tr>\n    <tr>\n      <th>9</th>\n      <td>10743257</td>\n      <td>5</td>\n      <td>0.109688</td>\n    </tr>\n    <tr>\n      <th>10</th>\n      <td>10743255</td>\n      <td>48</td>\n      <td>0.214184</td>\n    </tr>\n    <tr>\n      <th>11</th>\n      <td>10743255</td>\n      <td>45</td>\n      <td>0.202691</td>\n    </tr>\n    <tr>\n      <th>12</th>\n      <td>10743255</td>\n      <td>44</td>\n      <td>0.024650</td>\n    </tr>\n    <tr>\n      <th>13</th>\n      <td>10743255</td>\n      <td>38</td>\n      <td>0.054051</td>\n    </tr>\n    <tr>\n      <th>14</th>\n      <td>10743255</td>\n      <td>23</td>\n      <td>0.118540</td>\n    </tr>\n    <tr>\n      <th>15</th>\n      <td>10743255</td>\n      <td>15</td>\n      <td>0.027801</td>\n    </tr>\n    <tr>\n      <th>16</th>\n      <td>10743255</td>\n      <td>4</td>\n      <td>0.350786</td>\n    </tr>\n    <tr>\n      <th>17</th>\n      <td>10743254</td>\n      <td>33</td>\n      <td>0.245675</td>\n    </tr>\n    <tr>\n      <th>18</th>\n      <td>10743254</td>\n      <td>28</td>\n      <td>0.608778</td>\n    </tr>\n    <tr>\n      <th>19</th>\n      <td>10743254</td>\n      <td>5</td>\n      <td>0.109375</td>\n    </tr>\n  </tbody>\n</table>\n</div>",
      "text/plain": "      pageId  topicId  confidence\n0   10743259       37    0.497099\n1   10743259       23    0.016994\n2   10743259       10    0.371499\n3   10743259        4    0.105349\n4   10743258       33    0.245752\n5   10743258       28    0.608877\n6   10743258        5    0.109200\n7   10743257       33    0.245524\n8   10743257       28    0.608617\n9   10743257        5    0.109688\n10  10743255       48    0.214184\n11  10743255       45    0.202691\n12  10743255       44    0.024650\n13  10743255       38    0.054051\n14  10743255       23    0.118540\n15  10743255       15    0.027801\n16  10743255        4    0.350786\n17  10743254       33    0.245675\n18  10743254       28    0.608778\n19  10743254        5    0.109375"
     },
     "execution_count": 30,
     "metadata": {},
     "output_type": "execute_result"
    }
   ],
   "source": [
    "page_topic_df.head(20)"
   ]
  },
  {
   "cell_type": "code",
   "execution_count": null,
   "metadata": {},
   "outputs": [],
   "source": [
    "df = pd.get_dummies(page_topic_df, columns=[\"topicId\"], sparse=True)\n",
    "df.head()"
   ]
  },
  {
   "cell_type": "code",
   "execution_count": null,
   "metadata": {},
   "outputs": [],
   "source": [
    "cols = list(df.columns[2:])\n",
    "type(cols)\n",
    "topicId_values = np.zeros(50)\n",
    "\n",
    "row = page_topic_df.loc()\n",
    "\n",
    "\n",
    "# def confidence_topic(page_ID):\n",
    "\n"
   ]
  },
  {
   "cell_type": "code",
   "execution_count": 57,
   "metadata": {},
   "outputs": [
    {
     "data": {
      "text/plain": "10743259"
     },
     "execution_count": 57,
     "metadata": {},
     "output_type": "execute_result"
    }
   ],
   "source": [
    "unique_pageIds = page_topic_df['pageId'].unique()\n",
    "unique_pageIds[0]\n"
   ]
  },
  {
   "cell_type": "code",
   "execution_count": 61,
   "metadata": {},
   "outputs": [],
   "source": [
    "temp_df = page_topic_df.loc[page_topic_df['pageId'] == unique_pageIds[0]]"
   ]
  },
  {
   "cell_type": "code",
   "execution_count": 59,
   "metadata": {},
   "outputs": [
    {
     "data": {
      "text/plain": "[0,\n 1,\n 2,\n 3,\n 4,\n 5,\n 6,\n 7,\n 8,\n 9,\n 10,\n 11,\n 12,\n 13,\n 14,\n 15,\n 16,\n 17,\n 18,\n 19,\n 20,\n 21,\n 22,\n 23,\n 24,\n 25,\n 26,\n 27,\n 28,\n 29,\n 30,\n 31,\n 32,\n 33,\n 34,\n 35,\n 36,\n 37,\n 38,\n 39,\n 40,\n 41,\n 42,\n 43,\n 44,\n 45,\n 46,\n 47,\n 48,\n 49]"
     },
     "execution_count": 59,
     "metadata": {},
     "output_type": "execute_result"
    }
   ],
   "source": [
    "unique_topicIds = list(page_topic_df['topicId'].unique())\n",
    "unique_topicIds.sort()\n",
    "unique_topicIds"
   ]
  },
  {
   "cell_type": "code",
   "execution_count": 86,
   "metadata": {},
   "outputs": [
    {
     "data": {
      "text/plain": "(50,)"
     },
     "execution_count": 86,
     "metadata": {},
     "output_type": "execute_result"
    }
   ],
   "source": [
    "for i in range(len(temp_df)):\n",
    "    topicId_values[int(temp_df.iloc[i,:][1])] = temp_df.iloc[i,:][2]\n",
    "new_df = pd.DataFrame(columns=[pageId, ])\n"
   ]
  },
  {
   "cell_type": "code",
   "execution_count": null,
   "metadata": {},
   "outputs": [],
   "source": []
  }
 ]
}